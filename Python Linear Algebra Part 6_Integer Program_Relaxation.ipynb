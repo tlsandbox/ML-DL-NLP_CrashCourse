{
    "nbformat": 4, 
    "cells": [
        {
            "source": "# Python Linear Algebra_Part 6: Integer Programming & Relaxation\n## Full Day Workshop for user learn Data Science with Python\n## 2018 Timothy CL Lam\nThis is meant for internal usage, part of contents copied externally, not for commercial purpose`", 
            "cell_type": "markdown", 
            "metadata": {
                "collapsed": true
            }
        }, 
        {
            "source": "# NP-Completeness\n- So far we've seen a lot of good news: such-and-such a problem can be solved quickly (in close to linear time, or at least a time that is some small polynomial function of the input size).\n- NP-completeness is a form of bad news: evidence that many important problems can't be solved quickly.\n\n\n- Use a heuristic. If you can't quickly solve the problem with a good worst case time, maybe you can come up with a method for solving a reasonable fraction of the common cases.\n- Solve the problem approximately instead of exactly. A lot of the time it is possible to come up with a provably fast algorithm, that doesn't solve the problem exactly but comes up with a solution you can prove is close to right.\n- Use an exponential time solution anyway. If you really have to solve the problem exactly, you can settle down to writing an exponential time algorithm and stop worrying about finding a better solution.\n- Choose a better abstraction. The NP-complete abstract problem you're trying to solve presumably comes from ignoring some of the seemingly unimportant details of a more complicated real world problem. \n\n\n- Classification of problems\n\n**P**. \n- Problems that can be solved in polynomial time. \n- (\"P\" stands for polynomial.) \n\n\n**NP**. \n- This stands for \"nondeterministic polynomial time\" where nondeterministic is just a fancy way of talking about guessing a solution. \n- A problem is in NP if you can quickly (in polynomial time) test whether a solution is correct \n- NP does not stand for \"non-polynomial\". There are many complexity classes that are much harder than NP.\n\n### So P or NP\n- Although defined theoretically, many of these classes have practical implications. \n- For instance **P** is a very good approximation to the class of problems which can be solved quickly in practice -- \n- usually if this is true, we can prove a polynomial worst case time bound, and conversely the polynomial time bounds we can prove are usually small enough that the corresponding algorithms really are practical. \n- NP-completeness theory is concerned with the distinction between the first two classes, P and NP.\n\n### Examples:\n\n#### Example 1: Long simple paths.\nA simple path in a graph is just one without any repeated edges or vertices. To describe the problem of finding long paths in terms of complexity theory, we need to formalize it as a yes-or-no question: given a graph G, vertices s and t, and a number k, does there exist a simple path from s to t with at least k edges? A solution to this problem would then consist of such a path.\n\nWhy is this in NP? If you're given a path, you can quickly look at it and add up the length, double-checking that it really is a path with length at least k. This can all be done in linear time, so certainly it can be done in polynomial time.\n\nHowever we don't know whether this problem is in P; I haven't told you a good way for finding such a path (with time polynomial in m,n, and K). And in fact this problem is NP-complete, so we believe that no such algorithm exists.\n\n\n#### Example 2: Cryptography.\n\nSuppose we have an encryption function e.g.\n\n    code=RSA(key,text)\n    \nThe \"RSA\" encryption works by performing some simple integer arithmetic on the code and the key, which consists of a pair (p,q) of large prime numbers. One can perform the encryption only knowing the product pq; but to decrypt the code you instead need to know a different product, (p-1)(q-1).\nA standard assumption in cryptography is the \"known plaintext attack\": we have the code for some message, and we know (or can guess) the text of that message. We want to use that information to discover the key, so we can decrypt other messages sent using the same key.\n\nFormalized as an NP problem, we simply want to find a key for which code=RSA(key,text). If you're given a key, you can test it by doing the encryption yourself, so this is in NP.\n\nThe hard question is, how do you find the key? For the code to be strong we hope it isn't possible to do much better than a brute force search.\n\nOne can test a factorization quickly (just multiply the factors back together again), so the problem is in NP. Finding a factorization seems to be difficult, and we think it may not be in P. However there is some strong evidence that it is not NP-complete either; it seems to be one of the (very rare) examples of problems between P and NP-complete in difficulty.\n\n#### Example 3: Chess.\n\nWe've seen in the news recently a match between the world chess champion, Gary Kasparov, and a very fast chess computer, Deep Blue. The computer lost the match, but won one game and tied others.\n\nWhat is involved in chess programming? Essentially the sequences of possible moves form a tree: The first player has a choice of 20 different moves (most of which are not very good), after each of which the second player has a choice of many responses, and so on. Chess playing programs work by traversing this tree finding what the possible consequences would be of each different move.\n\nThe tree of moves is not very deep -- a typical chess game might last 40 moves, and it is rare for one to reach 200 moves. Since each move involves a step by each player, there are at most 400 positions involved in most games. If we traversed the tree of chess positions only to that depth, we would only need enough memory to store the 400 positions on a single path at a time. This much memory is easily available on the smallest computers you are likely to use.\n\nSo perfect chess playing is a problem in PSPACE. (Actually one must be more careful in definitions. There is only a finite number of positions in chess, so in principle you could write down the solution in constant time. But that constant would be very large. Generalized versions of chess on larger boards are in PSPACE.)\n\n\n## Take out the Theory, Solving integer programs is an NP-hard problem", 
            "cell_type": "markdown", 
            "metadata": {}
        }, 
        {
            "source": "# Integer Programming\n- integer program is exactly the same as a linear program, with the additional const\n\n\n## Why Must be Integer?\n- One example is problems involving the production of large indivisible items, such as airplanes or cars. \n- It usually does not make sense to use a continuous variable to represent the number of airplanes to produce\n- Another example of where one would use integer variables is to model a particular state, such as on or off. \n- For example, a unit commitment problem where integer variables are used to represent the state of a particular unit being either on or off.\n- Planning of investments also requires integer variables, for example a variable that takes a value of 1 to invest in a warehouse, and 0 to ignore it.\n- Finally, integer variables are often used to model logic between different decision, for example that a given tax break is only applicable if a certain investment is made.\n\n## Modeling techniques with integer and binary variables\n\n- Integer and binary variables are very useful to express logical constraints. \n- Here are a few examples of such constraints.\n\n### Indicator variables\n\n- Indicator variables are binary variables used to indicate whether a certain set of conditions is valid (with the variable equal to 1) or not (with the variable equal to 0). \n- For example, consider a production problem where you want to distinguish between two states, namely production above a minimum threshold, and no production. \n\nTo model this, define a binary variable $y$ to take a value of 1 if the production is above the minimum threshold (called minProd), and 0 if there is no production. Assume $production$ is a continuous variable containing the produced quantity. \nThis leads to these two constraints.\n\n$$\nproduction \\ge minProd * y\\\\\nproduction \\le maxProd * y\n$$\n\nHere, maxProd is an upper bound on the production quantity. Thus, if y = 1, the minimum and maximum production bounds hold, and if y = 0, the production is set to zero. \n\n\n### Logical constraints - an example\n\nFor example, consider an investment decision involving a production plant and two warehouses. \n\n- If the production plant is invested in, then either warehouse 1 or warehouse 2 may be invested in (not both).\n\n- If the production plant is not invested in, then neither of the two warehouses may be invested in.\n\nLet $yPlant$ be 1 if you decide to invest in the production plant, and 0 otherwise. \nSimilar for $yWarehouse1$ and $yWarehouse2$.\nThen this example can be modeled as follows:\n\n$$\nyWarehouse1 + yWarehouse2 <= yPlant\n$$\n\nIf $yPlant$ is 0 then both $yWarehouse1$ and $yWarehouse2$ are set to zero. \n\nOn the opposite, if one warehouse variable is set to 1, then $yPlant$ is also set to 1. Finally, this constraint also states that warehouse variables cannot be both equal to 1.\n", 
            "cell_type": "markdown", 
            "metadata": {}
        }, 
        {
            "source": "## IP versus MIP\n\n- When all the decision variables in a linear model should take integer values, the model is an Integer Program (or **IP**). \n\n- When some of the decision variables may also take continuous values, the model is a Mixed Integer Program (or **MIP**). \n- IPs and MIPs are generally much more difficult to solve than LPs.\n- The solution complexity increases with the number of possible combinations of the integer variables, and such problems are often referred to as being \u201ccombinatorial\u201d.\n\n\n### MIP\nE.g.  supply chain applications where investment decisions may be represented by integers and production quantities are represented by continuous variables.\n\n", 
            "cell_type": "markdown", 
            "metadata": {}
        }, 
        {
            "source": "\n\n<p>\n<ul>\n<img src = \"https://ibmdecisionoptimization.github.io/tutorials/jupyter/training/1_39.png?raw=true\" >\n</ul> \n\n\n\n- This graphic shows the new feasible region where the dots indicate the feasible solutions.  \n- That is, solutions where the variables take only integer values.  \n\n## What you should take away from this graphic, is that the feasible region is now a collection of points, as opposed to a solid area.  \n\n\n- Because, in this example, the integer solution does not lie on an extreme point of the continuous feasible region, LP techniques would not find the integer optimum.  \n- To find the integer optimum, you should use an integer programming technique. \n", 
            "cell_type": "markdown", 
            "metadata": {}
        }, 
        {
            "source": "# CPLEX Engine\n- In this notebook we are using IBM ILOG DOcplex to formulate the mathematical model in Python\n- Use the DOcplex Python library to write the mathematical model in Python. \n- This is done in four steps:\n\n    1. create a instance of docplex.mp.Model to hold all model objects\n    2. create decision variables,\n    3. create linear constraints,\n    4. finally, define the objective.\n\n\n### But first, we have to import the class Model from the docplex module.", 
            "cell_type": "markdown", 
            "metadata": {}
        }, 
        {
            "source": "### Step 1: Download the library\n\nFirst install *docplex* if needed.", 
            "cell_type": "markdown", 
            "metadata": {}
        }, 
        {
            "execution_count": 2, 
            "cell_type": "code", 
            "metadata": {}, 
            "source": "import sys\ntry:\n    import docplex.mp\nexcept:\n    if hasattr(sys, 'real_prefix'):\n        #we are in a virtual env.\n        !pip install docplex\n    else:\n        !pip install --user docplex\n\n", 
            "outputs": []
        }, 
        {
            "source": "### Step 2: Set up the prescriptive engine\n\n- Subscribe to our private cloud offer or Decision Optimization on Cloud solve service here if you do not want to use a local solver.\n- Get the service URL and your personal API key and enter your credentials here if accurate:\n\n", 
            "cell_type": "markdown", 
            "metadata": {}
        }, 
        {
            "execution_count": 3, 
            "cell_type": "code", 
            "metadata": {}, 
            "source": "url = \nkey = ", 
            "outputs": []
        }, 
        {
            "source": "\n### Step 3: Set up the prescriptive model\nCreate the model\n\nAll objects of the model belong to one model instance.", 
            "cell_type": "markdown", 
            "metadata": {}
        }, 
        {
            "execution_count": 5, 
            "cell_type": "code", 
            "metadata": {}, 
            "source": "from docplex.mp.model import Model", 
            "outputs": []
        }, 
        {
            "source": "### Declaring integer decision variables in DOcplex\n\nDOcplex has specific methods to create integer and binary variables.", 
            "cell_type": "markdown", 
            "metadata": {}
        }, 
        {
            "execution_count": 6, 
            "cell_type": "code", 
            "metadata": {
                "scrolled": false
            }, 
            "source": "im = Model(name='integer_programming')\nb = im.binary_var(name='boolean_var')\nijk = im.integer_var(name='int_var')\nim.print_information()", 
            "outputs": [
                {
                    "name": "stdout", 
                    "output_type": "stream", 
                    "text": "Model: integer_programming\n - number of variables: 2\n   - binary=1, integer=1, continuous=0\n - number of constraints: 0\n   - linear=0\n - parameters: defaults\n"
                }
            ]
        }, 
        {
            "source": "# Example: a production problem\n\n## Problem description: telephone production\n\nA telephone company produces and sells two kinds of telephones, namely **desk phones and cellular phones**. \n\nEach type of phone is assembled and painted by the company. \n\nThe objective is to maximize profit\n\nthe company has to produce at least 100 of each type of phone.\n\nThere are limits in terms of the company\u2019s production capacity, and the company has to calculate the optimal number of each type of phone to produce, \n\nwhile not exceeding the capacity of the plant.\n\n", 
            "cell_type": "markdown", 
            "metadata": {}
        }, 
        {
            "source": "## Writing a mathematical model\n\nConvert the descriptive model into a mathematical model:\n- Use the two decision variables DeskProduction and CellProduction\n- Use the data given in the problem description (remember to convert minutes to hours where appropriate)\n- Write the objective as a mathematical expression\n- Write the constraints as mathematical expressions (use \u201c=\u201d, \u201c<=\u201d, or \u201c>=\u201d, and name the constraints to describe their purpose)\n- Define the domain for the decision variables\n\n### Telephone production: a mathematical model\n\nTo express the last two constraints, we model assembly time and painting time as linear combinations of the two productions, resulting in the following mathematical model:\n\n$\nmaximize:\\\\\n\\ \\ 12\\ desk\\_production + 20\\ cell\\_production\\\\\nsubject\\ to: \\\\\n\\ \\   desk\\_production >= 100 \\\\\n\\ \\   cell\\_production >= 100 \\\\\n\\ \\   0.2\\ desk\\_production + 0.4\\ cell\\_production <= 400 \\\\\n\\ \\   0.5\\ desk\\_production + 0.4\\ cell\\_production <= 490 \\\\\n$\n", 
            "cell_type": "markdown", 
            "metadata": {}
        }, 
        {
            "source": "#### Define the decision variables\n- The continuous variable `desk` represents the production of desk telephones.\n- The continuous variable `cell` represents the production of cell phones.", 
            "cell_type": "markdown", 
            "metadata": {}
        }, 
        {
            "execution_count": 17, 
            "cell_type": "code", 
            "metadata": {}, 
            "source": "\n# create one model instance, with a name\nm = Model(name='telephone_production')\n\n\n# by default, all variables in Docplex have a lower bound of 0 and infinite upper bound\ndesk = m.continuous_var(name='desk')\ncell = m.continuous_var(name='cell')", 
            "outputs": []
        }, 
        {
            "source": "#### Set up the constraints\n- Desk and cel phone must both be greater than 100\n- Assembly time is limited\n- Painting time is limited.", 
            "cell_type": "markdown", 
            "metadata": {}
        }, 
        {
            "execution_count": 18, 
            "cell_type": "code", 
            "metadata": {}, 
            "source": "# write constraints\n# constraint #1: desk production is greater than 100\nm.add_constraint(desk >= 100)\n\n# constraint #2: cell production is greater than 100\nm.add_constraint(cell >= 100)\n\n# constraint #3: assembly time limit\nct_assembly = m.add_constraint( 0.2 * desk + 0.4 * cell <= 400)\n\n# constraint #4: paiting time limit\nct_painting = m.add_constraint( 0.5 * desk + 0.4 * cell <= 490)", 
            "outputs": []
        }, 
        {
            "source": "#### Express the objective\n\nWe want to maximize the expected revenue.", 
            "cell_type": "markdown", 
            "metadata": {}
        }, 
        {
            "execution_count": 19, 
            "cell_type": "code", 
            "metadata": {}, 
            "source": "m.maximize(12 * desk + 20 * cell)", 
            "outputs": []
        }, 
        {
            "source": "A few remarks about how we formulated the mathemtical model in Python using DOcplex:\n- all arithmetic operations (+, \\*, \\-) are done using Python operators\n- comparison operators used in writing linear constraint use Python comparison operators too.\n\n#### Print information about the model\n\nWe can print information about the model to see how many objects of each type it holds:", 
            "cell_type": "markdown", 
            "metadata": {}
        }, 
        {
            "execution_count": 20, 
            "cell_type": "code", 
            "metadata": {}, 
            "source": "m.print_information()", 
            "outputs": [
                {
                    "name": "stdout", 
                    "output_type": "stream", 
                    "text": "Model: telephone_production\n - number of variables: 2\n   - binary=0, integer=0, continuous=2\n - number of constraints: 4\n   - linear=4\n - parameters: defaults\n"
                }
            ]
        }, 
        {
            "source": "### Graphical representation of a Linear Problem\n\nA simple 2-dimensional LP (with 2 decision variables) can be represented graphically using a x- and y-axis. \n\nThis is often done to demonstrate optimization concepts. \n\nTo do this, follow these steps:\n- Assign one variable to the x-axis and the other to the y-axis.\n- Draw each of the constraints as you would draw any line in 2 dimensions.\n- Use the signs of the constraints (=, <= or >=) to determine which side of each line falls within the feasible region (allowable solutions).\n- Draw the objective function as you would draw any line in 2 dimensions, by substituting any value for the objective (for example, 12 * DeskProduction + 20 * CellProduction = 4000) \n", 
            "cell_type": "markdown", 
            "metadata": {}
        }, 
        {
            "source": "#### Feasible set of solutions\n\n<p>\n<ul>\n<img src = \"https://ibmdecisionoptimization.github.io/tutorials/jupyter/training/19.png?raw=true\" >\n</ul> \n\nThis graphic shows the feasible region for the telephone problem.  \nRecall that the feasible region of an LP is the region delimited by the constraints, and it represents all feasible solutions. In this graphic, the variables DeskProduction and CellProduction are abbreviated to be desk and cell instead.  Look at this diagram and search intuitively for the optimal solution.  That is, which combination of desk and cell phones will yield the highest profit.  \n", 
            "cell_type": "markdown", 
            "metadata": {}
        }, 
        {
            "source": "#### The optimal solution\n\n<p>\n<ul>\n<img src = \"https://ibmdecisionoptimization.github.io/tutorials/jupyter/training/20.png?raw=true\" >\n</ul> \n\n To find the optimal solution to the LP, you must find values for the decision variables, within the feasible region, that maximize profit as defined by the objective function. In this problem, the objective function is to maximize \n $$12 * desk + 20 * cell\n $$\n\nTo do this, first draw a line representing the objective by substituting a value for the objective.  \n\nNext move the line up (because this is a maximization problem) to find the point where the line last touches the feasible region.  Note that all the solutions on one objective line, such as AB, yield the same objective value.  Other values of the objective will be found along parallel lines (such as line CD). \n\nIn a profit maximizing problem such as this one, these parallel lines are often called isoprofit lines, because all the points along such a line represent the same profit. In a cost minimization problem, they are known as isocost lines. Since all isoprofit lines have the same slope, you can find all other isoprofit lines by pushing the objective value further out, moving in parallel, until the isoprofit lines no longer intersect the feasible region. The last isoprofit line that touches the feasible region defines the largest (therefore maximum) possible value of the objective function. In the case of the telephone production problem, this is found along line EF. \n\nThe optimal solution of a linear program always belongs to an extreme point of the feasible region (that is, at a vertex or an edge).\n", 
            "cell_type": "markdown", 
            "metadata": {}
        }, 
        {
            "source": "### Solve with the Decision Optimization solve service\n\nIf url and key are None, the Modeling layer will look for a local runtime, otherwise will use the credentials.\n\nLook at the documentation for a good understanding of the various solving/generation modes.\n\nIf you're using a Community Edition of CPLEX runtimes, depending on the size of the problem, the solve stage may fail and will need a paying subscription or product installation.\n\nIn any case, `Model.solve()` returns a solution object in Python, containing the optimal values of decision variables, if the solve succeeds, or else it returns `None`.", 
            "cell_type": "markdown", 
            "metadata": {}
        }, 
        {
            "execution_count": 21, 
            "cell_type": "code", 
            "metadata": {}, 
            "source": "s = m.solve(url=url, key=key)\nm.print_solution()", 
            "outputs": [
                {
                    "name": "stdout", 
                    "output_type": "stream", 
                    "text": "objective: 20600.000\n  desk=300.000\n  cell=850.000\n"
                }
            ]
        }, 
        {
            "source": "#### In this case, CPLEX has found an optimal solution at (300, 850). You can check that this point is indeed an extreme point of the feasible region.", 
            "cell_type": "markdown", 
            "metadata": {}
        }, 
        {
            "source": "## Let's turn  this example into Integer Programming problem\n\nIn real life, it is possible that the solution becomes non-integer under certain circumstances, for example:\n\n- Change the availability of the assembly machine to 401 hours\n- Change the painting machine availability to 492 hours\n- Change the profit for a desk phone to 12.4\n- Change the profit for a cell phone to 20.2\n\nThe fractional values for profit are quite realistic. Even though the fractional times for availability are not entirely realistic, these are used here to illustrate how fractional solutions may occur. \n\nLet's solve again the telephone production problem with these new data", 
            "cell_type": "markdown", 
            "metadata": {}
        }, 
        {
            "execution_count": 15, 
            "cell_type": "code", 
            "metadata": {}, 
            "source": "lm = Model(name='lp_telephone_production')\ndesk = lm.continuous_var(name='desk')\ncell = lm.continuous_var(name='cell')\n# write constraints\n# constraint #1: desk production is greater than 100\nlm.add_constraint(desk >= 100)\n\n# constraint #2: cell production is greater than 100\nlm.add_constraint(cell >= 100)\n\n# constraint #3: assembly time limit\nct_assembly = lm.add_constraint( 0.2 * desk + 0.4 * cell <= 401)\n\n# constraint #4: paiting time limit\nct_painting = lm.add_constraint( 0.5 * desk + 0.4 * cell <= 492)\nlm.maximize(12.4 * desk + 20.2 * cell)\n\nls = lm.solve(url=url, key=key)\nlm.print_solution()", 
            "outputs": [
                {
                    "name": "stdout", 
                    "output_type": "stream", 
                    "text": "objective: 20948.167\n  desk=303.333\n  cell=850.833\n"
                }
            ]
        }, 
        {
            "source": "As we can see the optimal solution contains fractional values for number of telephones, which are not realistic.\nTo ensure we get integer values in the solution, we can use integer decision variables.\n\nLet's solve a new model, identical except that its two decision variables are declared as _integer_ variables.", 
            "cell_type": "markdown", 
            "metadata": {}
        }, 
        {
            "execution_count": 16, 
            "cell_type": "code", 
            "metadata": {}, 
            "source": "im = Model(name='ip_telephone_production')\ndesk = im.integer_var(name='desk')\ncell = im.integer_var(name='cell')\n# write constraints\n# constraint #1: desk production is greater than 100\nim.add_constraint(desk >= 100)\n\n# constraint #2: cell production is greater than 100\nim.add_constraint(cell >= 100)\n\n# constraint #3: assembly time limit\nim.add_constraint( 0.2 * desk + 0.4 * cell <= 401)\n\n# constraint #4: paiting time limit\nim.add_constraint( 0.5 * desk + 0.4 * cell <= 492)\nim.maximize(12.4 * desk + 20.2 * cell)\n\nsi = im.solve(url=url, key=key)\nim.print_solution()", 
            "outputs": [
                {
                    "name": "stdout", 
                    "output_type": "stream", 
                    "text": "objective: 20947.400\n  desk=303\n  cell=851\n"
                }
            ]
        }, 
        {
            "source": "# LP Relaxation Method\n- When we solve an integer programming problem, one common approach is to relax all the integer variables to become continuous. \n- Then we will have a linear programming problem which is easy to solve (This version of the problem is called the linear programming relaxation of your original integer program).\n- The solution that you obtain from solving the LP relaxation will most likely not satisfy the integrality constraints present in your original problem. \n- To remedy this, two approaches are introduced:\n\n## 1. Cutting plane methods. \nThese can also be used to solve convex problems with integer constraints.\n\n## 2. Branch and bound methods. \nThese can also be used to solve nonliear problems with integer constraints (MINLP).\n", 
            "cell_type": "markdown", 
            "metadata": {}
        }, 
        {
            "source": "# Cutting Plane Method (Gomory Cut)\n\n- When we form the LP relaxation, we relax the problem in the sense that the feasible domain becomes larger. \n- Gomory cuts try to find and append inequalities that chop off parts of the new feasible region to our LP relaxation tableu, \n- removing fractional solutions until we stumble upon an integer solution. They will not, however, remove any integer feasible points. In a sense, they chop off excess regions of the feasible domain (like cutting off the crust of a toast).\n\n- Namely, we generate valid inequalities (called cuts) from the LP relaxation tableu, \n- that are violated at the current LP fractional solution; meaning that we need to resolve to recover feasibility. \n- We resolve the problem and if we get another fractional solution, we repeat the process. \n- We stop whenever we reach a solution that satisfies all the integrality constraints of the original integer programming problem.\n\n\n\n<p>\n<ul>\n<img src = \"https://qph.ec.quoracdn.net/main-qimg-81a7af9b262e29ca1c5cf3088d126243-c\" >\n</ul> \n\n\n- The fractional (LP solution) is at the intersection of the two constraints \n- whereas our integer feasible solutions are the solid dots. \n- The dashed line is our cut. Note how it cuts off the current fractional solution and doesn't cut off any integer feasible points.\n\nDetails: https://en.wikipedia.org/wiki/Cutting-plane_method\n", 
            "cell_type": "markdown", 
            "metadata": {}
        }, 
        {
            "source": "##  Branch and Bound method\n\n- The _branch and bound_ method, implemented in CPLEX Mixed-Integer Optimizer, provides an efficient way to solve IP and MIP problems. \n\n- This method begins by relaxing the integer requirement and treating the problem as an LP. \n- If all the variables take integer values, the solution is complete. \n- If not, the algorithm begins a tree search.  You\u2019ll now see an example of this tree search. \n\n**Consider this integer programming problem, involving**\n- an objective to maximize, \n- three constraints, \n- three non-negative integer variables \n\n\n$\nmaximize\\ x + y + 2 z\\\\\nsubject\\ to: 7x + 2y + 3z <= 36\\\\\n\\ \\ \\ \\ \\ \\ \\ \\ \\ \\ \\ \\ \\ \\ \\ \\ \\ \\ 5x + 4y + 7z <= 42\\\\\n\\ \\ \\ \\ \\ \\ \\ \\ \\ \\ \\ \\ \\ \\ \\ \\ \\ \\ 2x + 3y + 5z <= 28\\\\\n\\ \\ \\ \\ \\ \\ \\ \\ \\ \\ \\ \\ \\ \\ \\ \\ \\ \\ x,y,z \\ge 0\n$\n\n### Branch and Bound: the root node\n\n- The first node of the branch and bound tree is the LP relaxation of the original IP model.  \n- LP relaxation means that the integer variables have been relaxed to be continuous variables.  \n- The solution to the LP relaxation of a maximization IP, such as this, provides an upper bound to the original problem.\n- In this case that bound is eleven and five elevenths.  \n- The current lower bound is minus infinity. \n\n<p>\n<ul>\n<img src = \"https://ibmdecisionoptimization.github.io/tutorials/jupyter/training/1_43.png?raw=true\" >\n</ul> \n\n#### In this case, the solution is fractional and the tree search continues in order to try and find an integer solution.\n\n### Branch and Bound: branching on a variable\n\n- The algorithm next chooses one of the variables to branch on, in this case $x$, and adds two constraints to create two subproblems.  \n- These two constraints are based on the relaxed value of x, namely one and three elevenths.  \n- In the one subproblem, $x$ is required to be less than or equal to one, and in the other problem, \n- $x$ is required to be greater than or equal to two, in order to eliminate the fractional solution found.  \n- IP2 gives another fractional solution, but IP3 gives an integer solution.  \n- This integer solution of 10 is the new lower bound to the original maximization problem, \n- because it is the best current solution to the maximization problem.  \n\n<p>\n<ul>\n<img src = \"https://ibmdecisionoptimization.github.io/tutorials/jupyter/training/1_44.png?raw=true\" >\n</ul> \n\n- The algorithm will terminate when the gap between the upper and lower bounds is sufficiently small, \n- but at this point there is still more of the tree to explore.\n\n### Branch and Bound: iteration\n\n'\n\n- Next, two more subproblems are created from IP4, namely one with y less than or equal to zero in IP6, \n- and one with y greater than or equal to 1 in IP5.  \n- IP6 yields an integer solution of 11, which is an improvement of the previously found lower bound of 10. \n- IP5 gives a fractional solution and can be explored further.\n\n<p>\n<ul>\n<img src = \"https://ibmdecisionoptimization.github.io/tutorials/jupyter/training/1_47.png?raw=true\" >\n</ul> \n\n- So another two subproblems are created from IP5, namely IP8 with z less than or equal to 4, and IP7 with z greater than or equal to 5.  \n- However, the constraint added for IP4 specifies that z must be less than or equal to 5, so node IP7 immediately yields an integer solution with an objective value of 11, which is the same objective as for IP6.  \n- IP8 yields an integer solution with objective value of 9, which is a worse solution than those previously found and IP8 can therefore be discarded.  \n\n### The optimal solution reported is the integer solution with the best objective value that was found first, namely the solution to IP6.", 
            "cell_type": "markdown", 
            "metadata": {}
        }, 
        {
            "source": "## CPLEX with BBM\n- The progess of the Branch & Bound algorithm can be monitored by looking at the CPLEX the _log_. \n- Adding the keyword argument `log_output=True` to the `Model.solve()` method will print the log on the standard output.\n- You can see the best bound going down until the gap closes and the final solution of 11 is returned.\n", 
            "cell_type": "markdown", 
            "metadata": {}
        }, 
        {
            "execution_count": 7, 
            "cell_type": "code", 
            "metadata": {}, 
            "source": "bbm = Model(name='b&b')\nx, y, z = bbm.integer_var_list(3, name=['x', 'y', 'z'])\nbbm.maximize(x + y + 2*z)\nbbm.add_constraint(7*x + 2*y + 3*z <= 36)\nbbm.add_constraint(5*x + 4*y + 7*z <= 42)\nbbm.add_constraint(2*x + 3*y + 5*z <= 28)\nbbm.solve(url=url, key=key,log_output=True);", 
            "outputs": [
                {
                    "name": "stdout", 
                    "output_type": "stream", 
                    "text": "[2018-02-09T06:09:02Z, INFO] CPLEX version 12070100\n[2018-02-09T06:09:02Z, INFO] Parameter file:\n[2018-02-09T06:09:02Z, INFO] # -- This content is generated by DOcplex\n[2018-02-09T06:09:02Z, INFO] CPLEX Parameter File Version 12.6.3.0\n[2018-02-09T06:09:02Z, INFO] # --- end of generated prm data ---\n[2018-02-09T06:09:02Z, WARN] Warning:  CPLEX version found in file file.prm (12.6.3.0) does not match\n[2018-02-09T06:09:02Z, WARN]           this CPLEX version (12.7.1.0).\n[2018-02-09T06:09:02Z, WARN] Changed parameter CPX_PARAM_THREADS from 0 to 10\n[2018-02-09T06:09:02Z, INFO] Param[1,067] = 10\n[2018-02-09T06:09:02Z, INFO] Param[1,130] = utf-8\n[2018-02-09T06:09:02Z, INFO] Param[1,132] = -1\n[2018-02-09T06:09:02Z, INFO] CPXPARAM_WorkDir                                 \"/var/job_processor/work/tmp/java/job8413213856012148299.tmp\"\n[2018-02-09T06:09:02Z, INFO] CPXPARAM_Threads                                 10\n[2018-02-09T06:09:02Z, INFO] CPXPARAM_Read_APIEncoding                        \"utf-8\"\n[2018-02-09T06:09:02Z, INFO] CPXPARAM_Output_CloneLog                         -1\n[2018-02-09T06:09:02Z, INFO] CPXPARAM_MIP_Strategy_CallbackReducedLP          0\n[2018-02-09T06:09:02Z, INFO] CPXPARAM_Output_IntSolFilePrefix                 \"/var/job_processor/work/tmp/java/job8413213856012148299.tmp/sol\"\n[2018-02-09T06:09:02Z, INFO] Found incumbent of value 0.000000 after 0.00 sec. (0.00 ticks)\n[2018-02-09T06:09:02Z, INFO] Tried aggregator 1 time.\n[2018-02-09T06:09:02Z, INFO] Reduced MIP has 3 rows, 3 columns, and 9 nonzeros.\n[2018-02-09T06:09:02Z, INFO] Reduced MIP has 0 binaries, 3 generals, 0 SOSs, and 0 indicators.\n[2018-02-09T06:09:02Z, INFO] Presolve time = 0.00 sec. (0.00 ticks)\n[2018-02-09T06:09:02Z, INFO] Tried aggregator 1 time.\n[2018-02-09T06:09:02Z, INFO] Reduced MIP has 3 rows, 3 columns, and 9 nonzeros.\n[2018-02-09T06:09:02Z, INFO] Reduced MIP has 0 binaries, 3 generals, 0 SOSs, and 0 indicators.\n[2018-02-09T06:09:02Z, INFO] Presolve time = 0.00 sec. (0.01 ticks)\n[2018-02-09T06:09:02Z, INFO] MIP emphasis: balance optimality and feasibility.\n[2018-02-09T06:09:02Z, INFO] MIP search method: dynamic search.\n[2018-02-09T06:09:02Z, INFO] Parallel mode: deterministic, using up to 10 threads.\n[2018-02-09T06:09:02Z, INFO] Root relaxation solution time = 0.00 sec. (0.00 ticks)\n[2018-02-09T06:09:02Z, INFO] \n[2018-02-09T06:09:02Z, INFO]         Nodes                                         Cuts/\n[2018-02-09T06:09:02Z, INFO]    Node  Left     Objective  IInf  Best Integer    Best Bound    ItCnt     Gap\n[2018-02-09T06:09:02Z, INFO] \n[2018-02-09T06:09:02Z, INFO] *     0+    0                            0.0000       24.0000              ---\n[2018-02-09T06:09:02Z, INFO]       0     0       11.4286     2        0.0000       11.4286        2     ---\n[2018-02-09T06:09:02Z, INFO] *     0+    0                           11.0000       11.4286             3.90%\n[2018-02-09T06:09:02Z, INFO]       0     0        cutoff             11.0000       11.4286        2    3.90%\n[2018-02-09T06:09:02Z, INFO] Elapsed time = 0.05 sec. (0.03 ticks, tree = 0.01 MB, solutions = 2)\n[2018-02-09T06:09:02Z, INFO] \n[2018-02-09T06:09:02Z, INFO] Root node processing (before b&c):\n[2018-02-09T06:09:02Z, INFO]   Real time             =    0.05 sec. (0.03 ticks)\n[2018-02-09T06:09:02Z, INFO] Parallel b&c, 10 threads:\n[2018-02-09T06:09:02Z, INFO]   Real time             =    0.00 sec. (0.00 ticks)\n[2018-02-09T06:09:02Z, INFO]   Sync time (average)   =    0.00 sec.\n[2018-02-09T06:09:02Z, INFO]   Wait time (average)   =    0.00 sec.\n[2018-02-09T06:09:02Z, INFO]                           ------------\n[2018-02-09T06:09:02Z, INFO] Total (root+branch&cut) =    0.05 sec. (0.03 ticks)\n[2018-02-09T06:09:02Z, INFO] Incumbent solution:\n[2018-02-09T06:09:02Z, INFO] MILP objective                                 1.1000000000e+01\n[2018-02-09T06:09:02Z, INFO] MILP solution norm |x| (Total, Max)            6.00000e+00  5.00000e+00\n[2018-02-09T06:09:02Z, INFO] MILP solution error (Ax=b) (Total, Max)        0.00000e+00  0.00000e+00\n[2018-02-09T06:09:02Z, INFO] MILP x bound error (Total, Max)                0.00000e+00  0.00000e+00\n[2018-02-09T06:09:02Z, INFO] MILP x integrality error (Total, Max)          0.00000e+00  0.00000e+00\n[2018-02-09T06:09:02Z, INFO] MILP slack bound error (Total, Max)            0.00000e+00  0.00000e+00\n[2018-02-09T06:09:02Z, INFO] integer optimal solution (101)\n"
                }
            ]
        }, 
        {
            "source": "## Modeling yes/no decisions with binary variables: an example\n\n### Binary variables are often used to model yes/no decisions.  \n\nConsider a telephone production problem: The company is considering replacing the assembly machine with a newer machine that requires less time for cell phones, namely 18 minutes per phone, but more time for desk phones, namely 15 minutes per phone. This machine is available for 430 hours, as opposed to the 400 hours of the existing assembly machine, because it requires less downtime. \n\nWe will design and write a model that uses binary variables to help the company choose between the two machines. \n\nThe steps to formulate the mixed-integer model are:\n- Add four new variables (desk1, desk2, cell1, and cell2, to indicate the production on assembly machines 1 and 2, respectively.\n- Add two constraints to define the total production of desk and cell to equal the sum of production from the two assembly machines.\n- Rewrite the constraint for assembly machine 1 to use the new variables for that machine (desk1 and cell1).\n- Add a similar constraint for the production on assembly machine 2.\n- Define a Boolean variable, y, to take a value of 1 if assembly machine 1 is chosen, and 0 if assembly machine 2 is chosen.\n- Use the y variable to set the production to zero for the machine that is not chosen.\n", 
            "cell_type": "markdown", 
            "metadata": {}
        }, 
        {
            "source": "### Implementing the yes/no decision model with DOcplex\n\nFirst, create a model instance.", 
            "cell_type": "markdown", 
            "metadata": {}
        }, 
        {
            "execution_count": 10, 
            "cell_type": "code", 
            "metadata": {}, 
            "source": "tm2 = Model('decision_phone')", 
            "outputs": []
        }, 
        {
            "source": "#### Setup decision variables\n\nwe create two sets of (desk, cell) integer variables, one per machine type, plus the total production variables.\nNote that the total production variables do not need to be declared if the four typed productions are integers.\nAs the sum of two integers, they will always be integers; the less we have of integer variables, the easier CPLEX willsolve the problem.\n\nIn addition, we define an extra binary variable $z$ to model the choice we are facing: use machine #1 or machine #2.", 
            "cell_type": "markdown", 
            "metadata": {}
        }, 
        {
            "execution_count": 11, 
            "cell_type": "code", 
            "metadata": {}, 
            "source": "# variables for total production\ndesk = tm2.integer_var(name='desk', lb=100)\ncell = tm2.continuous_var(name='cell', lb=100)\n\n# two variables per machine type:\ndesk1 = tm2.integer_var(name='desk1')\ncell1 = tm2.integer_var(name='cell1')\n\ndesk2 = tm2.integer_var(name='desk2')\ncell2 = tm2.integer_var(name='cell2')\n\n# yes no variable\nz = tm2.binary_var(name='z')", 
            "outputs": []
        }, 
        {
            "source": "#### Setup constraints\n\n- The constraint for paiting machine limit is identical to the basic telephone model\n- Two extra constraints express the total production as the sum of productions on the two assembly machines.\n- Each assembly machine type has its own constraint, in which variable $z$ expresses the exclusive choice between the two.", 
            "cell_type": "markdown", 
            "metadata": {}
        }, 
        {
            "execution_count": 12, 
            "cell_type": "code", 
            "metadata": {}, 
            "source": "\n# total production is sum of type1 + type 2\ntm2.add_constraint(desk == desk1 + desk2)\ntm2.add_constraint(cell == cell1 + cell2)\n\n# production on assembly machine of type 1 must be less than 400 if y is 1, else 0\ntm2.add_constraint(0.2 * desk1 + 0.4 * cell1 <= 400 * z)\n# production on assembly machine of type 2 must be less than 430 if y is 0, else 0\ntm2.add_constraint(0.25 * desk2 + 0.3 * cell2 <= 430 * (1-z))\n\n# painting machine limit is identical\n# constraint #4: paiting time limit\ntm2.add_constraint( 0.5 * desk + 0.4 * cell <= 490)\n\ntm2.print_information()", 
            "outputs": [
                {
                    "name": "stdout", 
                    "output_type": "stream", 
                    "text": "Model: decision_phone\n - number of variables: 7\n   - binary=1, integer=5, continuous=1\n - number of constraints: 5\n   - linear=5\n - parameters: defaults\n"
                }
            ]
        }, 
        {
            "source": "#### Expressing the objective\n\nThe objective is identical: maximize total profit, using total productions.", 
            "cell_type": "markdown", 
            "metadata": {}
        }, 
        {
            "execution_count": 13, 
            "cell_type": "code", 
            "metadata": {}, 
            "source": "tm2.maximize(12 * desk + 20 * cell)", 
            "outputs": []
        }, 
        {
            "source": "#### Solve with the Decision Optimization solve service", 
            "cell_type": "markdown", 
            "metadata": {}
        }, 
        {
            "execution_count": 14, 
            "cell_type": "code", 
            "metadata": {}, 
            "source": "tm2s= tm2.solve(url=url, key=key,log_output=True)\nassert tm2s\ntm2.print_solution()", 
            "outputs": [
                {
                    "name": "stdout", 
                    "output_type": "stream", 
                    "text": "[2018-02-09T06:12:10Z, INFO] CPLEX version 12070100\n[2018-02-09T06:12:10Z, INFO] Parameter file:\n[2018-02-09T06:12:10Z, INFO] # -- This content is generated by DOcplex\n[2018-02-09T06:12:10Z, INFO] CPLEX Parameter File Version 12.6.3.0\n[2018-02-09T06:12:10Z, INFO] # --- end of generated prm data ---\n[2018-02-09T06:12:10Z, WARN] Warning:  CPLEX version found in file file.prm (12.6.3.0) does not match\n[2018-02-09T06:12:10Z, WARN]           this CPLEX version (12.7.1.0).\n[2018-02-09T06:12:10Z, WARN] Changed parameter CPX_PARAM_THREADS from 0 to 10\n[2018-02-09T06:12:10Z, INFO] Param[1,067] = 10\n[2018-02-09T06:12:10Z, INFO] Param[1,130] = utf-8\n[2018-02-09T06:12:10Z, INFO] Param[1,132] = -1\n[2018-02-09T06:12:10Z, INFO] CPXPARAM_WorkDir                                 \"/var/job_processor/work/tmp/java/job3105977193318409067.tmp\"\n[2018-02-09T06:12:10Z, INFO] CPXPARAM_Threads                                 10\n[2018-02-09T06:12:10Z, INFO] CPXPARAM_Read_APIEncoding                        \"utf-8\"\n[2018-02-09T06:12:10Z, INFO] CPXPARAM_Output_CloneLog                         -1\n[2018-02-09T06:12:10Z, INFO] CPXPARAM_MIP_Strategy_CallbackReducedLP          0\n[2018-02-09T06:12:10Z, INFO] CPXPARAM_Output_IntSolFilePrefix                 \"/var/job_processor/work/tmp/java/job3105977193318409067.tmp/sol\"\n[2018-02-09T06:12:10Z, INFO] Found incumbent of value 12800.000000 after 0.00 sec. (0.00 ticks)\n[2018-02-09T06:12:10Z, INFO] Tried aggregator 1 time.\n[2018-02-09T06:12:10Z, INFO] MIP Presolve modified 2 coefficients.\n[2018-02-09T06:12:10Z, INFO] Reduced MIP has 5 rows, 7 columns, and 14 nonzeros.\n[2018-02-09T06:12:10Z, INFO] Reduced MIP has 1 binaries, 5 generals, 0 SOSs, and 0 indicators.\n[2018-02-09T06:12:10Z, INFO] Presolve time = 0.00 sec. (0.01 ticks)\n[2018-02-09T06:12:10Z, INFO] Probing fixed 0 vars, tightened 1 bounds.\n[2018-02-09T06:12:10Z, INFO] Probing time = 0.00 sec. (0.00 ticks)\n[2018-02-09T06:12:10Z, INFO] Tried aggregator 1 time.\n[2018-02-09T06:12:10Z, INFO] MIP Presolve modified 1 coefficients.\n[2018-02-09T06:12:10Z, INFO] Reduced MIP has 5 rows, 7 columns, and 14 nonzeros.\n[2018-02-09T06:12:10Z, INFO] Reduced MIP has 1 binaries, 6 generals, 0 SOSs, and 0 indicators.\n[2018-02-09T06:12:10Z, INFO] Presolve time = 0.00 sec. (0.01 ticks)\n[2018-02-09T06:12:10Z, INFO] Probing time = 0.00 sec. (0.00 ticks)\n[2018-02-09T06:12:10Z, INFO] MIP emphasis: balance optimality and feasibility.\n[2018-02-09T06:12:10Z, INFO] MIP search method: dynamic search.\n[2018-02-09T06:12:10Z, INFO] Parallel mode: deterministic, using up to 10 threads.\n[2018-02-09T06:12:10Z, INFO] Root relaxation solution time = 0.00 sec. (0.01 ticks)\n[2018-02-09T06:12:10Z, INFO] \n[2018-02-09T06:12:10Z, INFO]         Nodes                                         Cuts/\n[2018-02-09T06:12:10Z, INFO]    Node  Left     Objective  IInf  Best Integer    Best Bound    ItCnt     Gap\n[2018-02-09T06:12:10Z, INFO] \n[2018-02-09T06:12:10Z, INFO] *     0+    0                        12800.0000    32800.0000           156.25%\n[2018-02-09T06:12:10Z, INFO] *     0     0      integral     0    23200.0000    23200.0000        1    0.00%\n[2018-02-09T06:12:10Z, INFO] Elapsed time = 0.01 sec. (0.05 ticks, tree = 0.00 MB, solutions = 2)\n[2018-02-09T06:12:10Z, INFO] \n[2018-02-09T06:12:10Z, INFO] Root node processing (before b&c):\n[2018-02-09T06:12:10Z, INFO]   Real time             =    0.01 sec. (0.05 ticks)\n[2018-02-09T06:12:10Z, INFO] Parallel b&c, 10 threads:\n[2018-02-09T06:12:10Z, INFO]   Real time             =    0.00 sec. (0.00 ticks)\n[2018-02-09T06:12:10Z, INFO]   Sync time (average)   =    0.00 sec.\n[2018-02-09T06:12:10Z, INFO]   Wait time (average)   =    0.00 sec.\n[2018-02-09T06:12:10Z, INFO]                           ------------\n[2018-02-09T06:12:10Z, INFO] Total (root+branch&cut) =    0.01 sec. (0.05 ticks)\n[2018-02-09T06:12:10Z, INFO] Incumbent solution:\n[2018-02-09T06:12:10Z, INFO] MILP objective                                 2.3200000000e+04\n[2018-02-09T06:12:10Z, INFO] MILP solution norm |x| (Total, Max)            2.40000e+03  1.10000e+03\n[2018-02-09T06:12:10Z, INFO] MILP solution error (Ax=b) (Total, Max)        0.00000e+00  0.00000e+00\n[2018-02-09T06:12:10Z, INFO] MILP x bound error (Total, Max)                0.00000e+00  0.00000e+00\n[2018-02-09T06:12:10Z, INFO] MILP x integrality error (Total, Max)          0.00000e+00  0.00000e+00\n[2018-02-09T06:12:10Z, INFO] MILP slack bound error (Total, Max)            0.00000e+00  0.00000e+00\n[2018-02-09T06:12:10Z, INFO] integer optimal solution (101)\nobjective: 23200.000\n  desk=100\n  cell=1100.000\n  desk2=100\n  cell2=1100\n"
                }
            ]
        }, 
        {
            "source": "#### Conclusion\n\nThis model demonstrates that the optimal solution is to use machine #2 , producing 100 deskphones and 1100 cell phones.", 
            "cell_type": "markdown", 
            "metadata": {}
        }, 
        {
            "source": "### Using binary variables for logical decisions\n\nWhat if the company had to choose between 3 possible candidates for the assembly machine, as opposed to two?\n\nThe above model can be generalized with three binary variables $z1$, $z2$, $z3$ each of which is equal to 1 only if machine type 1,2, or 3 is used. But then we need to express that _exactly_ one of those variables must be equal to 1. How can we achive this?\n\nThe answer is to add  the following constraint to the model:\n\n$$\nz_{1} + z_{2} + z_{3} = 1\n$$\n\nThus, if one of zs variables is equal to 0, the two other areequal to zero (remember binary variables can take value 0 or 1).", 
            "cell_type": "markdown", 
            "metadata": {}
        }
    ], 
    "metadata": {
        "language_info": {
            "pygments_lexer": "ipython2", 
            "version": "2.7.11", 
            "codemirror_mode": {
                "version": 2, 
                "name": "ipython"
            }, 
            "mimetype": "text/x-python", 
            "name": "python", 
            "file_extension": ".py", 
            "nbconvert_exporter": "python"
        }, 
        "kernelspec": {
            "language": "python", 
            "display_name": "Python 2 with Spark 2.1", 
            "name": "python2-spark21"
        }
    }, 
    "nbformat_minor": 1
}