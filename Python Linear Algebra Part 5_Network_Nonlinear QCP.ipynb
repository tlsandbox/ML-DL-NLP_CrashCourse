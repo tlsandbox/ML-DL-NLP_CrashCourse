{
    "metadata": {
        "language_info": {
            "name": "python", 
            "mimetype": "text/x-python", 
            "nbconvert_exporter": "python", 
            "pygments_lexer": "ipython2", 
            "codemirror_mode": {
                "name": "ipython", 
                "version": 2
            }, 
            "file_extension": ".py", 
            "version": "2.7.11"
        }, 
        "kernelspec": {
            "display_name": "Python 2 with Spark 2.1", 
            "name": "python2-spark21", 
            "language": "python"
        }
    }, 
    "nbformat": 4, 
    "cells": [
        {
            "metadata": {
                "collapsed": true
            }, 
            "source": "# Python Linear Algebra_Part 5: Network, Assignment, Nonlinear Problem\n## Full Day Workshop for user learn Data Science with Python\n## 2018 Timothy CL Lam\nThis is meant for internal usage, part of contents copied externally, not for commercial purpose`", 
            "cell_type": "markdown"
        }, 
        {
            "metadata": {}, 
            "source": "# Nonlinearity & Constraint Programming\nhttp://ibmdecisionoptimization.github.io/docplex-doc/mp_vs_cp.html", 
            "cell_type": "markdown"
        }, 
        {
            "metadata": {}, 
            "source": "# Network models\n", 
            "cell_type": "markdown"
        }, 
        {
            "metadata": {}, 
            "source": "## CPLEX Network Optimizer\n\nAs you\u2019ve now seen, many network problems are special types of LP problems. In many cases, using the Simplex or Dual-simplex Optimizers is the most efficient way to solve them. In some cases, specialized algorithms can solve such problems more efficiently. \n\nCPLEX automatically invokes the Network Optimizer  when it's likely that it would improve solution time compared to the other algorithms. \n\nIt is also possible to force the use (or not) of the Network Optimizer by setting the `lpopt` parameter of\na DOcplex model to 3 (remember 1 was primal simplex, 2 was dual simplex, and 4 is for barrier). ", 
            "cell_type": "markdown"
        }, 
        {
            "metadata": {}, 
            "source": "## Networks in real life\n\nSeveral problems encountered in Operations Research (OR) involve networks, such as:\n\n- **Distribution problems** (for example, transportation networks)\n- **Assignment problems** (for example, networks of workers and jobs they could be assigned to)\n- **Planning problems** (for example, critical path analysis for project planning)\n\nMany network models are special LP problems for which specialized solution algorithms exist. \n\nIt is important to know whether a problem can be formulated as a network model to exploit the special structure.\n\nThis topic introduces networks in general, as well as some well-known instances of network models.\n\n## Network modeling concepts\n\nAny network structure can be described using two types of objects:\n\n- Nodes: Defined points in the network (for example warehouses)\n- Arcs: An arc connects two nodes (for example a road connecting two warehouses) \n\nAn arc can be _directed_, which means than an arc $a_{ij}$ from node $i$ to node $j$ is different from arc $a_ji$ that begins at node $j$ and ends at node $i$.\n\n<p>\n<ul>\n<img src = \"https://ibmdecisionoptimization.github.io/tutorials/jupyter/training/1_5.png?raw=true\" >\n</ul> \n\n A sequence of arcs connecting two nodes is called a **chain**. Each arc in a chain shares exactly one node with the preceding arc.\n\n When all the arcs in a chain are directed such that it is possible to traverse the chain in the directions of the arcs from the start node to the end node, it is called a **path**.\n\n<p>\n<ul>\n<img src = \"https://ibmdecisionoptimization.github.io/tutorials/jupyter/training/1_6.png?raw=true\" >\n</ul> \n\n## Different types of network problems\n\nThe following are some well-known types of network problems:\n- Transportation problem\n- Transshipment problem\n- Assignment problem\n- Shortest path problem\n- Critical path analysis\n\nNext, you'll learn how to recognize each of these, and how their special structure can be exploited.", 
            "cell_type": "markdown"
        }, 
        {
            "metadata": {}, 
            "source": "### The Transportation Problem\n\nOne of the most common real-world network problems is the transportation problem.  \nThis type of problem involves a set of supply nodes and a set of demand nodes.  \nThe objective is to minimize the transportation cost from the supply nodes to the demand nodes, \nso as to satisfy the demand, and without exceeding the suppliers\u2019 capacities.  \n\nSuch a problem can be depicted in a graph, with \n- supply nodes, \n- demand nodes,\n- connecting arcs\n- The supply capacity is indicated with the supply nodes, \n- while the demand is indicated with the demand nodes, \n- and the transportation costs are indicated on the arcs.  \n\n<p>\n<ul>\n<img src = \"https://ibmdecisionoptimization.github.io/tutorials/jupyter/training/1_8.png?raw=true\" >\n</ul> \n\nThe LP formulation involves one type of variable, namely x(i,j) representing the quantity transported from supply node i to demand node j.  The objective is to minimize the total transportation cost across all arcs.  \nThe constraints are flow conservation constraints.  \n- The first two constraints state that the outflow from each supply node should be less than or equal to the supply capacity.  \n- The next three constraints state that the inflow into each demand node should equal the demand at that node.   \n- The domain for the shipments on the allowable arcs is set to be greater than or equal to zero, \n- while the shipment quantities on the disallowed arcs are set to zero.  \n\nEven though arcs (1,4) and (2,3) do not exist in the graph, the variables are included in the slide to show the special structure of the transportation problem.  If you were to formulate such a model in practice, you\u2019d simply exclude these variables. ", 
            "cell_type": "markdown"
        }, 
        {
            "metadata": {}, 
            "source": "#### Formulating a simple transportation problem with DOcplex\n\nIn the next section, we formulate the problem described above using DOcplex.", 
            "cell_type": "markdown"
        }, 
        {
            "metadata": {}, 
            "source": "#### What data for the transpotation problem?\n\nInput nodes are integers ranging in {1, 2}; output nodes are integers ranging from 3 to 5.\n\nThe data consists in three Python dictionaries:\n\n- one dictionary gives capacity values for all input nodes\n- one dictionary contains demands for all target nodes\n- one last dictionary holds cost values for some (source, target) pair of nodes.", 
            "cell_type": "markdown"
        }, 
        {
            "source": "capacities = {1: 15, 2: 20}\ndemands = {3: 7, 4: 10, 5: 15}\ncosts = {(1,3): 2, (1,5):4, (2,4):5, (2,5):3}\n\n# Python ranges will be used to iterate on source, target nodes.\nsource = range(1, 3) # {1, 2}\ntarget = range(3, 6) # {3,4,5}", 
            "metadata": {}, 
            "execution_count": 1, 
            "cell_type": "code", 
            "outputs": []
        }, 
        {
            "metadata": {}, 
            "source": "#### Create a model instance", 
            "cell_type": "markdown"
        }, 
        {
            "source": "from docplex.mp.model import Model\n\ntm = Model(name='transportation')", 
            "metadata": {}, 
            "execution_count": 2, 
            "cell_type": "code", 
            "outputs": []
        }, 
        {
            "metadata": {}, 
            "source": "#### Define the decision variables", 
            "cell_type": "markdown"
        }, 
        {
            "source": "# create flow variables for each couple of nodes\n# x(i,j) is the flow going out of node i to node j\nx = {(i,j): tm.continuous_var(name='x_{0}_{1}'.format(i,j)) for i in source for j in target}\n\n# each arc comes with a cost. Minimize all costed flows\ntm.minimize(tm.sum(x[i,j]*costs.get((i,j), 0) for i in source for j in target))\n\ntm.print_information()", 
            "metadata": {}, 
            "execution_count": 3, 
            "cell_type": "code", 
            "outputs": [
                {
                    "name": "stdout", 
                    "output_type": "stream", 
                    "text": "Model: transportation\n - number of variables: 6\n   - binary=0, integer=0, continuous=6\n - number of constraints: 0\n   - linear=0\n - parameters: defaults\n"
                }
            ]
        }, 
        {
            "metadata": {}, 
            "source": "#### Set up the constraints\n\n- For each source node, the total outbound flow must be smaller than available quantity.\n- For each target node, total inbound flow must be greater thand demand", 
            "cell_type": "markdown"
        }, 
        {
            "source": "# for each node, total outgoing flow must be smaller than available quantity\nfor i in source:\n    tm.add_constraint(tm.sum(x[i,j] for j in target) <= capacities[i])\n    \n# for each target node, total ingoing flow must be greater thand demand\nfor j in target:\n    tm.add_constraint(tm.sum(x[i,j] for i in source) >= demands[j])", 
            "metadata": {}, 
            "execution_count": 4, 
            "cell_type": "code", 
            "outputs": []
        }, 
        {
            "metadata": {}, 
            "source": "#### Express the business objective: minimize total flow cost\n\nEach arc has a unit cost and we want to minimize the total cost. If an arc has no entry in the dictionary, we assume a zero cost (using the `dict.get` method.", 
            "cell_type": "markdown"
        }, 
        {
            "source": "tm.minimize(tm.sum(x[i,j]*costs.get((i,j), 0)))", 
            "metadata": {}, 
            "execution_count": 5, 
            "cell_type": "code", 
            "outputs": []
        }, 
        {
            "metadata": {}, 
            "source": "### Solve with the Decision Optimization solve service\n\nIf url and key are None, the Modeling layer will look for a local runtime, otherwise will use the credentials.\n\nLook at the documentation for a good understanding of the various solving/generation modes.\n\nIf you're using a Community Edition of CPLEX runtimes, depending on the size of the problem, the solve stage may fail and will need a paying subscription or product installation.\n\nIn any case, `Model.solve()` returns a solution object in Python, containing the optimal values of decision variables, if the solve succeeds, or else it returns `None`.", 
            "cell_type": "markdown"
        }, 
        {
            "source": "url = \"https://api-oaas.docloud.ibmcloud.com/job_manager/rest/v1\"\nkey = \"bm_api_ext_6139fa6a-2265-4148-bb9f-d18ffa78ed7c\"", 
            "metadata": {}, 
            "execution_count": 6, 
            "cell_type": "code", 
            "outputs": []
        }, 
        {
            "source": "tms = tm.solve(url=url, key=key)\nassert tms\ntms.display()", 
            "metadata": {}, 
            "execution_count": 7, 
            "cell_type": "code", 
            "outputs": [
                {
                    "name": "stdout", 
                    "output_type": "stream", 
                    "text": "solution for: transportation\nobjective: 0.000\nx_1_5 = 15.000\nx_2_3 = 7.000\nx_2_4 = 10.000\n"
                }
            ]
        }, 
        {
            "metadata": {}, 
            "source": "### Special structure of  network problem\n\nThe special structure of the transportation problem, as well as many other types of network problems, allows the use of specialized algorithms that lead to significant reductions in solution time.\n\n#### Another important characteristic of transportation problems (and also some other network problems) is that if all the capacities and demands are integer, then the decision variables will take integer values.\n\n\nThis is important to know, because it means that you do not have to use integer variables in such cases. \n\nAs you'll learn in a later topic, integer variables often lead to problems that require much more computational effort compared to problems with only continuous variables.\n", 
            "cell_type": "markdown"
        }, 
        {
            "source": "from collections import namedtuple", 
            "metadata": {
                "collapsed": true
            }, 
            "execution_count": null, 
            "cell_type": "code", 
            "outputs": []
        }, 
        {
            "source": "_parameters = namedtuple('parameters', ['maxTrucks', 'maxVolume'])\n_location = namedtuple('location', ['name'])\n_spoke = namedtuple('spoke', ['name', 'minDepTime', 'maxArrTime'])\n_truckType = namedtuple('truckType', ['truckType', 'capacity', 'costPerMile', 'milesPerHour'])\n_loadTimeInfo = namedtuple('loadTimeInfo', ['hub', 'truckType', 'loadTime'])\n_routeInfo = namedtuple('routeInfo', ['spoke', 'hub', 'distance'])\n_triple = namedtuple('triple', ['origin', 'hub', 'destination'])\n_shipment = namedtuple('shipment', ['origin', 'destination', 'totalVolume'])\n\n", 
            "metadata": {}, 
            "execution_count": null, 
            "cell_type": "code", 
            "outputs": []
        }, 
        {
            "source": "import requests\nimport json\nimport decimal \nr = requests.get(\"https://github.com/vberaudi/utwt/blob/master/trucking.json?raw=true\")\njson_data = json.loads(r.text, parse_float=decimal.Decimal )    ", 
            "metadata": {}, 
            "execution_count": null, 
            "cell_type": "code", 
            "outputs": []
        }, 
        {
            "source": "def read_json_tuples(name, my_namedtuple):\n    json_fragment = json_data[name]\n    length = len(my_namedtuple._fields)\n    ret = []\n    for t in json_fragment:\n        #print t\n        ret2 = [0 for i in range(length)]\n        for i in  range(length):\n            field = my_namedtuple._fields[i]\n            ret2[i] = t[field]\n        ret.append(my_namedtuple(*tuple(ret2)))\n    return ret\n\ndef read_json_tuple(name, my_namedtuple):\n    json_fragment = json_data[name]\n    length = len(my_namedtuple._fields)\n    ret = [0 for i in range(length)]\n    for i in  range(length):\n        field = my_namedtuple._fields[i]\n        ret[i] = json_fragment[field]\n    return my_namedtuple(*tuple(ret))", 
            "metadata": {
                "collapsed": true
            }, 
            "execution_count": null, 
            "cell_type": "code", 
            "outputs": []
        }, 
        {
            "metadata": {}, 
            "source": "Use basic HTML and a stylesheet to format the data.", 
            "cell_type": "markdown"
        }, 
        {
            "source": "CSS = \"\"\"\nbody {\n    margin: 0;\n    font-family: Helvetica;\n}\ntable.dataframe {\n    border-collapse: collapse;\n    border: none;\n}\ntable.dataframe tr {\n    border: none;\n}\ntable.dataframe td, table.dataframe th {\n    margin: 0;\n    border: 1px solid white;\n    padding-left: 0.25em;\n    padding-right: 0.25em;\n}\ntable.dataframe th:not(:empty) {\n    background-color: #fec;\n    text-align: left;\n    font-weight: normal;\n}\ntable.dataframe tr:nth-child(2) th:empty {\n    border-left: none;\n    border-right: 1px dashed #888;\n}\ntable.dataframe td {\n    border: 2px solid #ccf;\n    background-color: #f4f4ff;\n}\n    table.dataframe thead th:first-child {\n        display: none;\n    }\n    table.dataframe tbody th {\n        display: none;\n    }\n\"\"\"\n\nfrom IPython.core.display import HTML\nHTML('<style>{}</style>'.format(CSS))", 
            "metadata": {}, 
            "execution_count": null, 
            "cell_type": "code", 
            "outputs": []
        }, 
        {
            "source": "parameters = read_json_tuple(name='Parameters', my_namedtuple=_parameters)\nhubs = read_json_tuples(name='Hubs', my_namedtuple=_location)\ntruckTypes = read_json_tuples(name='TruckTypes', my_namedtuple=_truckType)\nspokes = read_json_tuples(name='Spokes', my_namedtuple=_spoke)\nloadTimes = read_json_tuples(name='LoadTimes', my_namedtuple=_loadTimeInfo)\nroutes = read_json_tuples(name='Routes', my_namedtuple=_routeInfo)\nshipments = read_json_tuples(name='Shipments', my_namedtuple=_shipment)", 
            "metadata": {}, 
            "execution_count": null, 
            "cell_type": "code", 
            "outputs": []
        }, 
        {
            "metadata": {
                "render": true
            }, 
            "source": "### Step 4: Prepare the data\n\nGiven the number of teams in each division and the number of intradivisional and interdivisional games to be played, you can calculate the total number of teams and the number of weeks in the schedule, assuming every team plays exactly one game per week. \n\n\nThe season is split into halves, and the number of the intradivisional games that each team must play in the first half of the season is calculated.", 
            "cell_type": "markdown"
        }, 
        {
            "source": "maxTrucks = parameters.maxTrucks;\nmaxVolume = parameters.maxVolume;\n\nhubIds = {h.name for h in hubs}\n\nspokeIds = {s.name for s in spokes}\nspoke = {s.name : s for s in spokes}\n\ntruckTypeIds = {ttis.truckType for ttis in truckTypes}\ntruckTypeInfos = {tti.truckType : tti for tti in truckTypes}\n\nloadTime = {(lt.hub , lt.truckType) : lt.loadTime for lt in loadTimes}\n\n# feasible pathes from spokes to spokes via one hub\ntriples = {_triple(r1.spoke, r1.hub, r2.spoke) for r1 in routes for r2 in routes if (r1 != r2 and r1.hub == r2.hub)}", 
            "metadata": {}, 
            "execution_count": null, 
            "cell_type": "code", 
            "outputs": []
        }, 
        {
            "metadata": {}, 
            "source": "Some asserts to check the data follows the guidelines.", 
            "cell_type": "markdown"
        }, 
        {
            "source": "# Make sure the data is consistent: latest arrive time >= earliest departure time\nfor s in spokeIds:\n    assert spoke[s].maxArrTime > spoke[s].minDepTime, \"inconsistent data\"\n\n# The following assertion is to make sure that the spoke\n# in each route is indeed in the set of Spokes.\nfor r in routes:\n    assert r.spoke in spokeIds, \"some route is not in the spokes\"\n\n# The following assertion is to make sure that the hub\n# in each route are indeed in the set of Hubs.\nfor r in routes:\n    assert r.hub in hubIds, \"some route is not in the hubs\"\n\n# The following assertion is to make sure that the origin\n# of each shipment is indeed in the set of Spokes.\nfor s in shipments:\n    assert s.origin in spokeIds, \"origin is not in the set of Spokes\"\n\n# The following assertion is to make sure that the destination\n# of each shipment is indeed in the set of Spokes.\nfor s in shipments:\n    assert s.destination in spokeIds, \"shipment is not in the set of Spokes\"", 
            "metadata": {
                "collapsed": true
            }, 
            "execution_count": null, 
            "cell_type": "code", 
            "outputs": []
        }, 
        {
            "source": "from math import ceil, floor\n# the earliest unloading time at a hub for each type of trucks\nearliestUnloadingTime = {(r, t) : int(ceil(loadTime[r.hub, t] + spoke[r.spoke].minDepTime + 60 * r.distance / truckTypeInfos[t].milesPerHour)) for t in truckTypeIds for r in routes}\n# the latest loading time at a hub for each type of trucks\nlatestLoadingTime = {(r, t) : int(floor(spoke[r.spoke].maxArrTime - loadTime[r.hub, t] - 60 * r.distance / truckTypeInfos[t].milesPerHour)) for t in truckTypeIds for r in routes}\n\n# Compute possible truck types that can be assigned on a route\n# A type of truck can be assigned on a route only if it can make it to the hub and back\n#  before the max arrival time at the spoke.\npossibleTruckOnRoute =  {(r, t) : 1 if earliestUnloadingTime[r, t] < latestLoadingTime[r, t] else 0 for t in truckTypeIds for r in routes}", 
            "metadata": {
                "collapsed": true
            }, 
            "execution_count": null, 
            "cell_type": "code", 
            "outputs": []
        }, 
        {
            "metadata": {
                "render": true
            }, 
            "source": "### Step 5: Set up the prescriptive model", 
            "cell_type": "markdown"
        }, 
        {
            "source": "from docplex.mp.environment import Environment\nenv = Environment()\nenv.print_information()", 
            "metadata": {}, 
            "execution_count": null, 
            "cell_type": "code", 
            "outputs": []
        }, 
        {
            "metadata": {}, 
            "source": "#### Create the DOcplex model\nThe model contains all the business constraints and defines the objective.", 
            "cell_type": "markdown"
        }, 
        {
            "source": "from docplex.mp.model import Model\n\nmodel = Model(\"truck\")", 
            "metadata": {
                "collapsed": true
            }, 
            "execution_count": null, 
            "cell_type": "code", 
            "outputs": []
        }, 
        {
            "metadata": {}, 
            "source": "#### Define the decision variables", 
            "cell_type": "markdown"
        }, 
        {
            "source": "truckOnRoute = model.integer_var_matrix(keys1=routes, keys2=truckTypeIds, lb=0, ub=maxTrucks, name=\"TruckOnRoute\")\n\n# This represents the volumes shipped out from each hub\n# by each type of trucks on each triple\n# The volumes are distinguished by trucktypes because trucks of different types\n# arrive at a hub at different times and the timing is used in defining\n# the constraints for volume availability for the trucks leaving the hub.\noutVolumeThroughHubOnTruck = model.integer_var_matrix(keys1=triples, keys2=truckTypeIds, lb=0, ub=maxVolume, name=\"OutVolumeThroughHubOnTruck\")\n\n# This represents the volume shipped into each hub by each type of trucks on each triple\n# It is used in defining timing constraints.\ninVolumeThroughHubOnTruck = model.integer_var_matrix(keys1=triples, keys2=truckTypeIds, lb=0, ub=maxVolume, name=\"InVolumeThroughHubOnTruck\")", 
            "metadata": {}, 
            "execution_count": null, 
            "cell_type": "code", 
            "outputs": []
        }, 
        {
            "metadata": {
                "render": true
            }, 
            "source": "#### Express the business constraints", 
            "cell_type": "markdown"
        }, 
        {
            "metadata": {}, 
            "source": "##### The number of trucks of each type should be less than \"maxTrucks\", and if a type of truck is impossible for a route, its number should be zero", 
            "cell_type": "markdown"
        }, 
        {
            "source": "for r in routes:\n    for t in truckTypeIds:\n        model.add_constraint(truckOnRoute[r, t] <= possibleTruckOnRoute[r, t] * maxTrucks)", 
            "metadata": {}, 
            "execution_count": null, 
            "cell_type": "code", 
            "outputs": []
        }, 
        {
            "metadata": {}, 
            "source": "##### On each route s-h, the total inbound volume carried by trucks of each type should be less than the total capacity of the trucks of this type.", 
            "cell_type": "markdown"
        }, 
        {
            "source": "for (s,h,dist) in routes:\n    for t in truckTypeIds:\n        model.add_constraint(\n            model.sum(inVolumeThroughHubOnTruck[(s1, h1, dest), t] for (s1, h1, dest) in triples if s == s1 and h1 == h)\n              <= truckOnRoute[(s, h, dist), t] * truckTypeInfos[t].capacity\n        )", 
            "metadata": {}, 
            "execution_count": null, 
            "cell_type": "code", 
            "outputs": []
        }, 
        {
            "metadata": {}, 
            "source": "##### On any triple, the total flows in the hub = the total flows out the hub", 
            "cell_type": "markdown"
        }, 
        {
            "source": "for tr in triples:\n    model.add_constraint(\n        model.sum(inVolumeThroughHubOnTruck[tr, t] for t in truckTypeIds)\n        == model.sum(outVolumeThroughHubOnTruck[tr, t] for t in truckTypeIds)\n    )", 
            "metadata": {
                "collapsed": true
            }, 
            "execution_count": null, 
            "cell_type": "code", 
            "outputs": []
        }, 
        {
            "metadata": {}, 
            "source": "##### The sum of flows between any origin-destination pair via all hubs is equal to the shipment between the o-d pair.", 
            "cell_type": "markdown"
        }, 
        {
            "source": "for (o,d,v) in shipments:\n    model.add_constraint(model.sum(inVolumeThroughHubOnTruck[(o1, h, d1), t] for t in truckTypeIds for (o1, h, d1) in triples if o1 == o and d1 == d) == v)", 
            "metadata": {}, 
            "execution_count": null, 
            "cell_type": "code", 
            "outputs": []
        }, 
        {
            "metadata": {}, 
            "source": "##### There must be enough volume for a truck before it leaves a hub. \nIn another words, the shipments for a truck must arrive at the hub from all spokes before the truck leaves. \nThe constraint can be expressed as the following: For each route s-h and leaving truck of type t:  Cumulated inbound volume arrived before the loading time of the truck >= Cumulated outbound volume upto the loading time of the truck(including the shipments being loaded).", 
            "cell_type": "markdown"
        }, 
        {
            "source": "for (s,h,dist) in routes:\n    for t in truckTypeIds:\n        model.add_constraint(\n            # The expression below defines the indices of the trucks unloaded before truck t starts loading.\n          model.sum(inVolumeThroughHubOnTruck[(o, h, s), t1]\n                    for (o,h0,s0) in triples if h0 == h and s0 == s\n                    for t1 in truckTypeIds\n                    for (o2,h2,dist1) in routes if h2 == h0 and o2 == o\n                    if earliestUnloadingTime[(o, h, dist1), t1] <= latestLoadingTime[(s, h, dist), t])\n            >=\n              # The expression below defines the indices of the trucks left before truck t starts loading.\n          model.sum(outVolumeThroughHubOnTruck[(o, h, s), t2]\n                    for (o,h0,s0) in triples if h0 == h and s0 == s\n                    for t2 in truckTypeIds\n                    for (o2,h2,dist2) in routes if h2 == h0 and o2 == o\n                    if latestLoadingTime[(o, h, dist2), t2] <= latestLoadingTime[(s, h, dist), t])\n        )", 
            "metadata": {}, 
            "execution_count": null, 
            "cell_type": "code", 
            "outputs": []
        }, 
        {
            "metadata": {
                "render": true
            }, 
            "source": "#### Express the objective", 
            "cell_type": "markdown"
        }, 
        {
            "source": "totalCost = model.sum(2 * r.distance * truckTypeInfos[t].costPerMile * truckOnRoute[r, t] for r in routes for t in truckTypeIds)\n\nmodel.minimize(totalCost)", 
            "metadata": {}, 
            "execution_count": null, 
            "cell_type": "code", 
            "outputs": []
        }, 
        {
            "metadata": {
                "render": true
            }, 
            "source": "### Solve with the Decision Optimization solve service \n\nYou will get the best solution found after n seconds, due to a time limit parameter.\n", 
            "cell_type": "markdown"
        }, 
        {
            "source": "model.print_information()\n\nassert model.solve(url=url, key=key), \"!!! Solve of the model fails\"\nmodel.report()", 
            "metadata": {}, 
            "execution_count": null, 
            "cell_type": "code", 
            "outputs": []
        }, 
        {
            "metadata": {
                "render": true
            }, 
            "source": "### Step 6: Investigate the solution and then run an example analysis", 
            "cell_type": "markdown"
        }, 
        {
            "source": "#solution object model\n_result = namedtuple('result', ['totalCost'])\n_nbTrucksOnRouteRes = namedtuple('nbTrucksOnRouteRes', ['spoke', 'hub', 'truckType', 'nbTruck'])\n_volumeThroughHubOnTruckRes = namedtuple('volumeThroughHubOnTruckRes', ['origin', 'hub', 'destination', 'truckType', 'quantity'])\n_aggregatedReport = namedtuple('aggregatedReport', ['spoke', 'hub', 'truckType', 'quantity'])", 
            "metadata": {
                "collapsed": true
            }, 
            "execution_count": null, 
            "cell_type": "code", 
            "outputs": []
        }, 
        {
            "source": "# Post processing: result data structures are exported as post-processed tuple or list of tuples\n# Solve objective value\nimport pandas as pd\nresult = _result(totalCost.solution_value)\n\n\nnbTrucksOnRouteRes = pd.DataFrame([_nbTrucksOnRouteRes(r.spoke, r.hub, t, int(truckOnRoute[r, t]))\n                      for r in routes\n                      for t in truckTypeIds\n                      if int(truckOnRoute[r, t]) > 0])\n\n\n# Volume shipped into each hub by each type of trucks and each pair (origin, destination)\ninVolumeThroughHubOnTruckRes = pd.DataFrame([_volumeThroughHubOnTruckRes(tr.origin, tr.hub, tr.destination, t, int(inVolumeThroughHubOnTruck[tr, t]))\n                                for tr in triples\n                                for t in truckTypeIds\n                                if int(inVolumeThroughHubOnTruck[tr, t]) > 0])\n\n\n# Volume shipped from each hub by each type of trucks and each pair (origin, destination)\noutVolumeThroughHubOnTruckRes = pd.DataFrame([_volumeThroughHubOnTruckRes(tr.origin, tr.hub, tr.destination, t, int(outVolumeThroughHubOnTruck[tr, t]))\n                                 for tr in triples\n                                 for t in truckTypeIds\n                                 if int(outVolumeThroughHubOnTruck[tr, t]) > 0])\n\ninBoundAggregated = pd.DataFrame([_aggregatedReport(r.spoke, r.hub, t, sum(int(inVolumeThroughHubOnTruck[tr, t])\n                                                              for tr in triples if tr.origin == r.spoke and tr.hub == r.hub))\n                     for r in routes\n                     for t in truckTypeIds\n                     if int(truckOnRoute[r, t]) > 0])\noutBoundAggregated = pd.DataFrame([_aggregatedReport(r.spoke, r.hub, t, sum(int(outVolumeThroughHubOnTruck[tr, t])\n                                                               for tr in triples if tr.destination == r.spoke and tr.hub == r.hub))\n                      for r in routes\n                      for t in truckTypeIds\n                      if int(truckOnRoute[r, t]) > 0])", 
            "metadata": {}, 
            "execution_count": null, 
            "cell_type": "code", 
            "outputs": []
        }, 
        {
            "source": "from IPython.display import display", 
            "metadata": {
                "collapsed": true
            }, 
            "execution_count": null, 
            "cell_type": "code", 
            "outputs": []
        }, 
        {
            "source": "display(nbTrucksOnRouteRes)", 
            "metadata": {
                "scrolled": true
            }, 
            "execution_count": null, 
            "cell_type": "code", 
            "outputs": []
        }, 
        {
            "source": "display(inVolumeThroughHubOnTruckRes)", 
            "metadata": {}, 
            "execution_count": null, 
            "cell_type": "code", 
            "outputs": []
        }, 
        {
            "source": "display(outVolumeThroughHubOnTruckRes)", 
            "metadata": {}, 
            "execution_count": null, 
            "cell_type": "code", 
            "outputs": []
        }, 
        {
            "source": "display(inBoundAggregated)", 
            "metadata": {}, 
            "execution_count": null, 
            "cell_type": "code", 
            "outputs": []
        }, 
        {
            "source": "display(outBoundAggregated)", 
            "metadata": {}, 
            "execution_count": null, 
            "cell_type": "code", 
            "outputs": []
        }, 
        {
            "metadata": {}, 
            "source": "## The Transshipment Problem\n\nThe transshipment problem is similar to the transportation problem, except that intermediate nodes exist in addition to the supply and demand nodes.  \n\n<p>\n<ul>\n<img src = \"https://ibmdecisionoptimization.github.io/tutorials/jupyter/training/1_10.png?raw=true\" >\n</ul> \n\n\nIn this example, nodes 3 and 4 are intermediate nodes.  \n\nThe LP formulation is also similar, in the sense that it involves \n- an objective to minimize the transportation cost across all arcs, and a set of flow conservation constraints.  \n- The first two constraints are for the supply nodes, and state that the outflow from each supply node should equal the capacity of that node, plus any inflow into that same node. \n- The next two constraints are for the intermediate nodes, and state that the inflow into an intermediate node should equal the outflow out of that node.  \n- The last two constraints are for the demand nodes, and state that the inflow into each demand node should equal the demand at that node.  The domain for the variables is to be greater than or equal to zero. \n", 
            "cell_type": "markdown"
        }, 
        {
            "metadata": {
                "render": true
            }, 
            "source": "## Example:  Transportation Optimization Problem  \n\n\n* A trucking company has a hub and spoke system. The shipments to be delivered are specified by an originating spoke, a destination spoke, and a shipment volume. The trucks have different types defined by a maximum capacity, a speed, and a cost per mile. The model assigns the correct number of trucks to each route in order to minimize the cost of transshipment and meet the volume requirements. There is a minimum departure time and a maximum return time for trucks at a spoke, and a load and unload time at the hub. Trucks of different types travel at different speeds. Therefore, shipments are available at each hub in a timely manner. Volume availability constraints are taken into account, meaning that the shipments that will be carried back from a hub to a spoke by a truck must be available for loading before the truck leaves.\n\n* The assumptions are:\n\n   * Exactly the same number of trucks that go from spoke to hub return from hub to spoke.\n   * Each truck arrives at a hub as early as possible and leaves as late as possible.\n   * The shipments can be broken arbitrarily into smaller packages and shipped through different paths.", 
            "cell_type": "markdown"
        }, 
        {
            "source": "from collections import namedtuple", 
            "metadata": {}, 
            "execution_count": 8, 
            "cell_type": "code", 
            "outputs": []
        }, 
        {
            "source": "_parameters = namedtuple('parameters', ['maxTrucks', 'maxVolume'])\n_location = namedtuple('location', ['name'])\n_spoke = namedtuple('spoke', ['name', 'minDepTime', 'maxArrTime'])\n_truckType = namedtuple('truckType', ['truckType', 'capacity', 'costPerMile', 'milesPerHour'])\n_loadTimeInfo = namedtuple('loadTimeInfo', ['hub', 'truckType', 'loadTime'])\n_routeInfo = namedtuple('routeInfo', ['spoke', 'hub', 'distance'])\n_triple = namedtuple('triple', ['origin', 'hub', 'destination'])\n_shipment = namedtuple('shipment', ['origin', 'destination', 'totalVolume'])\n\n", 
            "metadata": {}, 
            "execution_count": 9, 
            "cell_type": "code", 
            "outputs": []
        }, 
        {
            "source": "import requests\nimport json\nimport decimal \nr = requests.get(\"https://github.com/vberaudi/utwt/blob/master/trucking.json?raw=true\")\njson_data = json.loads(r.text, parse_float=decimal.Decimal )    ", 
            "metadata": {}, 
            "execution_count": 10, 
            "cell_type": "code", 
            "outputs": []
        }, 
        {
            "source": "def read_json_tuples(name, my_namedtuple):\n    json_fragment = json_data[name]\n    length = len(my_namedtuple._fields)\n    ret = []\n    for t in json_fragment:\n        #print t\n        ret2 = [0 for i in range(length)]\n        for i in  range(length):\n            field = my_namedtuple._fields[i]\n            ret2[i] = t[field]\n        ret.append(my_namedtuple(*tuple(ret2)))\n    return ret\n\ndef read_json_tuple(name, my_namedtuple):\n    json_fragment = json_data[name]\n    length = len(my_namedtuple._fields)\n    ret = [0 for i in range(length)]\n    for i in  range(length):\n        field = my_namedtuple._fields[i]\n        ret[i] = json_fragment[field]\n    return my_namedtuple(*tuple(ret))", 
            "metadata": {}, 
            "execution_count": 11, 
            "cell_type": "code", 
            "outputs": []
        }, 
        {
            "metadata": {}, 
            "source": "Use basic HTML and a stylesheet to format the data.", 
            "cell_type": "markdown"
        }, 
        {
            "source": "CSS = \"\"\"\nbody {\n    margin: 0;\n    font-family: Helvetica;\n}\ntable.dataframe {\n    border-collapse: collapse;\n    border: none;\n}\ntable.dataframe tr {\n    border: none;\n}\ntable.dataframe td, table.dataframe th {\n    margin: 0;\n    border: 1px solid white;\n    padding-left: 0.25em;\n    padding-right: 0.25em;\n}\ntable.dataframe th:not(:empty) {\n    background-color: #fec;\n    text-align: left;\n    font-weight: normal;\n}\ntable.dataframe tr:nth-child(2) th:empty {\n    border-left: none;\n    border-right: 1px dashed #888;\n}\ntable.dataframe td {\n    border: 2px solid #ccf;\n    background-color: #f4f4ff;\n}\n    table.dataframe thead th:first-child {\n        display: none;\n    }\n    table.dataframe tbody th {\n        display: none;\n    }\n\"\"\"\n\nfrom IPython.core.display import HTML\nHTML('<style>{}</style>'.format(CSS))", 
            "metadata": {}, 
            "execution_count": 12, 
            "cell_type": "code", 
            "outputs": [
                {
                    "data": {
                        "text/html": "<style>\nbody {\n    margin: 0;\n    font-family: Helvetica;\n}\ntable.dataframe {\n    border-collapse: collapse;\n    border: none;\n}\ntable.dataframe tr {\n    border: none;\n}\ntable.dataframe td, table.dataframe th {\n    margin: 0;\n    border: 1px solid white;\n    padding-left: 0.25em;\n    padding-right: 0.25em;\n}\ntable.dataframe th:not(:empty) {\n    background-color: #fec;\n    text-align: left;\n    font-weight: normal;\n}\ntable.dataframe tr:nth-child(2) th:empty {\n    border-left: none;\n    border-right: 1px dashed #888;\n}\ntable.dataframe td {\n    border: 2px solid #ccf;\n    background-color: #f4f4ff;\n}\n    table.dataframe thead th:first-child {\n        display: none;\n    }\n    table.dataframe tbody th {\n        display: none;\n    }\n</style>", 
                        "text/plain": "<IPython.core.display.HTML object>"
                    }, 
                    "metadata": {}, 
                    "execution_count": 12, 
                    "output_type": "execute_result"
                }
            ]
        }, 
        {
            "source": "parameters = read_json_tuple(name='Parameters', my_namedtuple=_parameters)\nhubs = read_json_tuples(name='Hubs', my_namedtuple=_location)\ntruckTypes = read_json_tuples(name='TruckTypes', my_namedtuple=_truckType)\nspokes = read_json_tuples(name='Spokes', my_namedtuple=_spoke)\nloadTimes = read_json_tuples(name='LoadTimes', my_namedtuple=_loadTimeInfo)\nroutes = read_json_tuples(name='Routes', my_namedtuple=_routeInfo)\nshipments = read_json_tuples(name='Shipments', my_namedtuple=_shipment)", 
            "metadata": {}, 
            "execution_count": 13, 
            "cell_type": "code", 
            "outputs": []
        }, 
        {
            "metadata": {
                "render": true
            }, 
            "source": "### Truck Example: Prepare the data\n\nGiven the number of teams in each division and the number of intradivisional and interdivisional games to be played, you can calculate the total number of teams and the number of weeks in the schedule, assuming every team plays exactly one game per week. \n\n\nThe season is split into halves, and the number of the intradivisional games that each team must play in the first half of the season is calculated.", 
            "cell_type": "markdown"
        }, 
        {
            "source": "maxTrucks = parameters.maxTrucks;\nmaxVolume = parameters.maxVolume;\n\nhubIds = {h.name for h in hubs}\n\nspokeIds = {s.name for s in spokes}\nspoke = {s.name : s for s in spokes}\n\ntruckTypeIds = {ttis.truckType for ttis in truckTypes}\ntruckTypeInfos = {tti.truckType : tti for tti in truckTypes}\n\nloadTime = {(lt.hub , lt.truckType) : lt.loadTime for lt in loadTimes}\n\n# feasible pathes from spokes to spokes via one hub\ntriples = {_triple(r1.spoke, r1.hub, r2.spoke) for r1 in routes for r2 in routes if (r1 != r2 and r1.hub == r2.hub)}", 
            "metadata": {}, 
            "execution_count": 14, 
            "cell_type": "code", 
            "outputs": []
        }, 
        {
            "metadata": {}, 
            "source": "Some asserts to check the data follows the guidelines.", 
            "cell_type": "markdown"
        }, 
        {
            "source": "# Make sure the data is consistent: latest arrive time >= earliest departure time\nfor s in spokeIds:\n    assert spoke[s].maxArrTime > spoke[s].minDepTime, \"inconsistent data\"\n\n# The following assertion is to make sure that the spoke\n# in each route is indeed in the set of Spokes.\nfor r in routes:\n    assert r.spoke in spokeIds, \"some route is not in the spokes\"\n\n# The following assertion is to make sure that the hub\n# in each route are indeed in the set of Hubs.\nfor r in routes:\n    assert r.hub in hubIds, \"some route is not in the hubs\"\n\n# The following assertion is to make sure that the origin\n# of each shipment is indeed in the set of Spokes.\nfor s in shipments:\n    assert s.origin in spokeIds, \"origin is not in the set of Spokes\"\n\n# The following assertion is to make sure that the destination\n# of each shipment is indeed in the set of Spokes.\nfor s in shipments:\n    assert s.destination in spokeIds, \"shipment is not in the set of Spokes\"", 
            "metadata": {}, 
            "execution_count": 15, 
            "cell_type": "code", 
            "outputs": []
        }, 
        {
            "source": "from math import ceil, floor\n# the earliest unloading time at a hub for each type of trucks\nearliestUnloadingTime = {(r, t) : int(ceil(loadTime[r.hub, t] + spoke[r.spoke].minDepTime + 60 * r.distance / truckTypeInfos[t].milesPerHour)) for t in truckTypeIds for r in routes}\n# the latest loading time at a hub for each type of trucks\nlatestLoadingTime = {(r, t) : int(floor(spoke[r.spoke].maxArrTime - loadTime[r.hub, t] - 60 * r.distance / truckTypeInfos[t].milesPerHour)) for t in truckTypeIds for r in routes}\n\n# Compute possible truck types that can be assigned on a route\n# A type of truck can be assigned on a route only if it can make it to the hub and back\n#  before the max arrival time at the spoke.\npossibleTruckOnRoute =  {(r, t) : 1 if earliestUnloadingTime[r, t] < latestLoadingTime[r, t] else 0 for t in truckTypeIds for r in routes}", 
            "metadata": {}, 
            "execution_count": 16, 
            "cell_type": "code", 
            "outputs": []
        }, 
        {
            "metadata": {
                "render": true
            }, 
            "source": "### Truck Example: Set up the prescriptive model", 
            "cell_type": "markdown"
        }, 
        {
            "source": "from docplex.mp.environment import Environment\nenv = Environment()\nenv.print_information()", 
            "metadata": {}, 
            "execution_count": 17, 
            "cell_type": "code", 
            "outputs": [
                {
                    "name": "stdout", 
                    "output_type": "stream", 
                    "text": "* system is: Linux 64bit\n* Python is present, version is 2.7.11\n* docplex is present, version is (2, 0, 15)\n* CPLEX wrapper is not available\n"
                }
            ]
        }, 
        {
            "metadata": {}, 
            "source": "#### Create the DOcplex model\nThe model contains all the business constraints and defines the objective.", 
            "cell_type": "markdown"
        }, 
        {
            "source": "from docplex.mp.model import Model\n\nmodel = Model(\"truck\")", 
            "metadata": {}, 
            "execution_count": 18, 
            "cell_type": "code", 
            "outputs": []
        }, 
        {
            "metadata": {}, 
            "source": "#### Define the decision variables", 
            "cell_type": "markdown"
        }, 
        {
            "source": "truckOnRoute = model.integer_var_matrix(keys1=routes, keys2=truckTypeIds, lb=0, ub=maxTrucks, name=\"TruckOnRoute\")\n\n# This represents the volumes shipped out from each hub\n# by each type of trucks on each triple\n# The volumes are distinguished by trucktypes because trucks of different types\n# arrive at a hub at different times and the timing is used in defining\n# the constraints for volume availability for the trucks leaving the hub.\noutVolumeThroughHubOnTruck = model.integer_var_matrix(keys1=triples, keys2=truckTypeIds, lb=0, ub=maxVolume, name=\"OutVolumeThroughHubOnTruck\")\n\n# This represents the volume shipped into each hub by each type of trucks on each triple\n# It is used in defining timing constraints.\ninVolumeThroughHubOnTruck = model.integer_var_matrix(keys1=triples, keys2=truckTypeIds, lb=0, ub=maxVolume, name=\"InVolumeThroughHubOnTruck\")", 
            "metadata": {}, 
            "execution_count": 19, 
            "cell_type": "code", 
            "outputs": []
        }, 
        {
            "metadata": {
                "render": true
            }, 
            "source": "#### Express the business constraints", 
            "cell_type": "markdown"
        }, 
        {
            "metadata": {}, 
            "source": "##### The number of trucks of each type should be less than \"maxTrucks\", and if a type of truck is impossible for a route, its number should be zero", 
            "cell_type": "markdown"
        }, 
        {
            "source": "for r in routes:\n    for t in truckTypeIds:\n        model.add_constraint(truckOnRoute[r, t] <= possibleTruckOnRoute[r, t] * maxTrucks)", 
            "metadata": {}, 
            "execution_count": 20, 
            "cell_type": "code", 
            "outputs": []
        }, 
        {
            "metadata": {}, 
            "source": "##### On each route s-h, the total inbound volume carried by trucks of each type should be less than the total capacity of the trucks of this type.", 
            "cell_type": "markdown"
        }, 
        {
            "source": "for (s,h,dist) in routes:\n    for t in truckTypeIds:\n        model.add_constraint(\n            model.sum(inVolumeThroughHubOnTruck[(s1, h1, dest), t] for (s1, h1, dest) in triples if s == s1 and h1 == h)\n              <= truckOnRoute[(s, h, dist), t] * truckTypeInfos[t].capacity\n        )", 
            "metadata": {}, 
            "execution_count": 21, 
            "cell_type": "code", 
            "outputs": []
        }, 
        {
            "metadata": {}, 
            "source": "##### On any triple, the total flows in the hub = the total flows out the hub", 
            "cell_type": "markdown"
        }, 
        {
            "source": "for tr in triples:\n    model.add_constraint(\n        model.sum(inVolumeThroughHubOnTruck[tr, t] for t in truckTypeIds)\n        == model.sum(outVolumeThroughHubOnTruck[tr, t] for t in truckTypeIds)\n    )", 
            "metadata": {}, 
            "execution_count": 22, 
            "cell_type": "code", 
            "outputs": []
        }, 
        {
            "metadata": {}, 
            "source": "##### The sum of flows between any origin-destination pair via all hubs is equal to the shipment between the o-d pair.", 
            "cell_type": "markdown"
        }, 
        {
            "source": "for (o,d,v) in shipments:\n    model.add_constraint(model.sum(inVolumeThroughHubOnTruck[(o1, h, d1), t] for t in truckTypeIds for (o1, h, d1) in triples if o1 == o and d1 == d) == v)", 
            "metadata": {}, 
            "execution_count": 23, 
            "cell_type": "code", 
            "outputs": []
        }, 
        {
            "metadata": {}, 
            "source": "##### There must be enough volume for a truck before it leaves a hub. \nIn another words, the shipments for a truck must arrive at the hub from all spokes before the truck leaves. \nThe constraint can be expressed as the following: For each route s-h and leaving truck of type t:  Cumulated inbound volume arrived before the loading time of the truck >= Cumulated outbound volume upto the loading time of the truck(including the shipments being loaded).", 
            "cell_type": "markdown"
        }, 
        {
            "source": "for (s,h,dist) in routes:\n    for t in truckTypeIds:\n        model.add_constraint(\n            # The expression below defines the indices of the trucks unloaded before truck t starts loading.\n          model.sum(inVolumeThroughHubOnTruck[(o, h, s), t1]\n                    for (o,h0,s0) in triples if h0 == h and s0 == s\n                    for t1 in truckTypeIds\n                    for (o2,h2,dist1) in routes if h2 == h0 and o2 == o\n                    if earliestUnloadingTime[(o, h, dist1), t1] <= latestLoadingTime[(s, h, dist), t])\n            >=\n              # The expression below defines the indices of the trucks left before truck t starts loading.\n          model.sum(outVolumeThroughHubOnTruck[(o, h, s), t2]\n                    for (o,h0,s0) in triples if h0 == h and s0 == s\n                    for t2 in truckTypeIds\n                    for (o2,h2,dist2) in routes if h2 == h0 and o2 == o\n                    if latestLoadingTime[(o, h, dist2), t2] <= latestLoadingTime[(s, h, dist), t])\n        )", 
            "metadata": {}, 
            "execution_count": 24, 
            "cell_type": "code", 
            "outputs": []
        }, 
        {
            "metadata": {
                "render": true
            }, 
            "source": "#### Express the objective", 
            "cell_type": "markdown"
        }, 
        {
            "source": "totalCost = model.sum(2 * r.distance * truckTypeInfos[t].costPerMile * truckOnRoute[r, t] for r in routes for t in truckTypeIds)\n\nmodel.minimize(totalCost)", 
            "metadata": {}, 
            "execution_count": 25, 
            "cell_type": "code", 
            "outputs": []
        }, 
        {
            "metadata": {
                "render": true
            }, 
            "source": "### Truck Example: Solve with the Decision Optimization solve service \n\nYou will get the best solution found after n seconds, due to a time limit parameter.\n", 
            "cell_type": "markdown"
        }, 
        {
            "source": "model.print_information()\n\nassert model.solve(url=url, key=key), \"!!! Solve of the model fails\"\nmodel.report()", 
            "metadata": {}, 
            "execution_count": 26, 
            "cell_type": "code", 
            "outputs": [
                {
                    "name": "stdout", 
                    "output_type": "stream", 
                    "text": "Model: truck\n - number of variables: 188\n   - binary=0, integer=188, continuous=0\n - number of constraints: 132\n   - linear=132\n - parameters: defaults\n* model solved with objective = 25850\n"
                }
            ]
        }, 
        {
            "metadata": {
                "render": true
            }, 
            "source": "### Truck Example: Investigate the solution and then run an example analysis", 
            "cell_type": "markdown"
        }, 
        {
            "source": "#solution object model\n_result = namedtuple('result', ['totalCost'])\n_nbTrucksOnRouteRes = namedtuple('nbTrucksOnRouteRes', ['spoke', 'hub', 'truckType', 'nbTruck'])\n_volumeThroughHubOnTruckRes = namedtuple('volumeThroughHubOnTruckRes', ['origin', 'hub', 'destination', 'truckType', 'quantity'])\n_aggregatedReport = namedtuple('aggregatedReport', ['spoke', 'hub', 'truckType', 'quantity'])", 
            "metadata": {}, 
            "execution_count": 27, 
            "cell_type": "code", 
            "outputs": []
        }, 
        {
            "source": "# Post processing: result data structures are exported as post-processed tuple or list of tuples\n# Solve objective value\nimport pandas as pd\nresult = _result(totalCost.solution_value)\n\n\nnbTrucksOnRouteRes = pd.DataFrame([_nbTrucksOnRouteRes(r.spoke, r.hub, t, int(truckOnRoute[r, t]))\n                      for r in routes\n                      for t in truckTypeIds\n                      if int(truckOnRoute[r, t]) > 0])\n\n\n# Volume shipped into each hub by each type of trucks and each pair (origin, destination)\ninVolumeThroughHubOnTruckRes = pd.DataFrame([_volumeThroughHubOnTruckRes(tr.origin, tr.hub, tr.destination, t, int(inVolumeThroughHubOnTruck[tr, t]))\n                                for tr in triples\n                                for t in truckTypeIds\n                                if int(inVolumeThroughHubOnTruck[tr, t]) > 0])\n\n\n# Volume shipped from each hub by each type of trucks and each pair (origin, destination)\noutVolumeThroughHubOnTruckRes = pd.DataFrame([_volumeThroughHubOnTruckRes(tr.origin, tr.hub, tr.destination, t, int(outVolumeThroughHubOnTruck[tr, t]))\n                                 for tr in triples\n                                 for t in truckTypeIds\n                                 if int(outVolumeThroughHubOnTruck[tr, t]) > 0])\n\ninBoundAggregated = pd.DataFrame([_aggregatedReport(r.spoke, r.hub, t, sum(int(inVolumeThroughHubOnTruck[tr, t])\n                                                              for tr in triples if tr.origin == r.spoke and tr.hub == r.hub))\n                     for r in routes\n                     for t in truckTypeIds\n                     if int(truckOnRoute[r, t]) > 0])\noutBoundAggregated = pd.DataFrame([_aggregatedReport(r.spoke, r.hub, t, sum(int(outVolumeThroughHubOnTruck[tr, t])\n                                                               for tr in triples if tr.destination == r.spoke and tr.hub == r.hub))\n                      for r in routes\n                      for t in truckTypeIds\n                      if int(truckOnRoute[r, t]) > 0])", 
            "metadata": {}, 
            "execution_count": 48, 
            "cell_type": "code", 
            "outputs": []
        }, 
        {
            "source": "from IPython.display import display", 
            "metadata": {}, 
            "execution_count": 29, 
            "cell_type": "code", 
            "outputs": []
        }, 
        {
            "source": "display(nbTrucksOnRouteRes)", 
            "metadata": {
                "scrolled": true
            }, 
            "execution_count": 30, 
            "cell_type": "code", 
            "outputs": [
                {
                    "data": {
                        "text/html": "<div>\n<style scoped>\n    .dataframe tbody tr th:only-of-type {\n        vertical-align: middle;\n    }\n\n    .dataframe tbody tr th {\n        vertical-align: top;\n    }\n\n    .dataframe thead th {\n        text-align: right;\n    }\n</style>\n<table border=\"1\" class=\"dataframe\">\n  <thead>\n    <tr style=\"text-align: right;\">\n      <th></th>\n      <th>spoke</th>\n      <th>hub</th>\n      <th>truckType</th>\n      <th>nbTruck</th>\n    </tr>\n  </thead>\n  <tbody>\n    <tr>\n      <th>0</th>\n      <td>D</td>\n      <td>G</td>\n      <td>BigTruck</td>\n      <td>1</td>\n    </tr>\n    <tr>\n      <th>1</th>\n      <td>A</td>\n      <td>H</td>\n      <td>BigTruck</td>\n      <td>2</td>\n    </tr>\n    <tr>\n      <th>2</th>\n      <td>B</td>\n      <td>H</td>\n      <td>BigTruck</td>\n      <td>1</td>\n    </tr>\n    <tr>\n      <th>3</th>\n      <td>B</td>\n      <td>H</td>\n      <td>SmallTruck</td>\n      <td>1</td>\n    </tr>\n    <tr>\n      <th>4</th>\n      <td>C</td>\n      <td>H</td>\n      <td>BigTruck</td>\n      <td>1</td>\n    </tr>\n    <tr>\n      <th>5</th>\n      <td>C</td>\n      <td>H</td>\n      <td>SmallTruck</td>\n      <td>1</td>\n    </tr>\n    <tr>\n      <th>6</th>\n      <td>D</td>\n      <td>H</td>\n      <td>SmallTruck</td>\n      <td>1</td>\n    </tr>\n    <tr>\n      <th>7</th>\n      <td>E</td>\n      <td>H</td>\n      <td>BigTruck</td>\n      <td>1</td>\n    </tr>\n    <tr>\n      <th>8</th>\n      <td>F</td>\n      <td>H</td>\n      <td>BigTruck</td>\n      <td>1</td>\n    </tr>\n    <tr>\n      <th>9</th>\n      <td>F</td>\n      <td>H</td>\n      <td>SmallTruck</td>\n      <td>1</td>\n    </tr>\n  </tbody>\n</table>\n</div>", 
                        "text/plain": "  spoke hub   truckType  nbTruck\n0     D   G    BigTruck        1\n1     A   H    BigTruck        2\n2     B   H    BigTruck        1\n3     B   H  SmallTruck        1\n4     C   H    BigTruck        1\n5     C   H  SmallTruck        1\n6     D   H  SmallTruck        1\n7     E   H    BigTruck        1\n8     F   H    BigTruck        1\n9     F   H  SmallTruck        1"
                    }, 
                    "metadata": {}, 
                    "output_type": "display_data"
                }
            ]
        }, 
        {
            "source": "display(inVolumeThroughHubOnTruckRes)", 
            "metadata": {}, 
            "execution_count": 31, 
            "cell_type": "code", 
            "outputs": [
                {
                    "data": {
                        "text/html": "<div>\n<style scoped>\n    .dataframe tbody tr th:only-of-type {\n        vertical-align: middle;\n    }\n\n    .dataframe tbody tr th {\n        vertical-align: top;\n    }\n\n    .dataframe thead th {\n        text-align: right;\n    }\n</style>\n<table border=\"1\" class=\"dataframe\">\n  <thead>\n    <tr style=\"text-align: right;\">\n      <th></th>\n      <th>origin</th>\n      <th>hub</th>\n      <th>destination</th>\n      <th>truckType</th>\n      <th>quantity</th>\n    </tr>\n  </thead>\n  <tbody>\n    <tr>\n      <th>0</th>\n      <td>A</td>\n      <td>H</td>\n      <td>C</td>\n      <td>BigTruck</td>\n      <td>250</td>\n    </tr>\n    <tr>\n      <th>1</th>\n      <td>B</td>\n      <td>H</td>\n      <td>F</td>\n      <td>SmallTruck</td>\n      <td>197</td>\n    </tr>\n    <tr>\n      <th>2</th>\n      <td>F</td>\n      <td>H</td>\n      <td>E</td>\n      <td>BigTruck</td>\n      <td>104</td>\n    </tr>\n    <tr>\n      <th>3</th>\n      <td>A</td>\n      <td>H</td>\n      <td>B</td>\n      <td>BigTruck</td>\n      <td>300</td>\n    </tr>\n    <tr>\n      <th>4</th>\n      <td>D</td>\n      <td>H</td>\n      <td>F</td>\n      <td>SmallTruck</td>\n      <td>155</td>\n    </tr>\n    <tr>\n      <th>5</th>\n      <td>A</td>\n      <td>H</td>\n      <td>E</td>\n      <td>BigTruck</td>\n      <td>145</td>\n    </tr>\n    <tr>\n      <th>6</th>\n      <td>B</td>\n      <td>H</td>\n      <td>D</td>\n      <td>BigTruck</td>\n      <td>218</td>\n    </tr>\n    <tr>\n      <th>7</th>\n      <td>B</td>\n      <td>H</td>\n      <td>D</td>\n      <td>SmallTruck</td>\n      <td>3</td>\n    </tr>\n    <tr>\n      <th>8</th>\n      <td>A</td>\n      <td>H</td>\n      <td>D</td>\n      <td>BigTruck</td>\n      <td>350</td>\n    </tr>\n    <tr>\n      <th>9</th>\n      <td>B</td>\n      <td>H</td>\n      <td>E</td>\n      <td>BigTruck</td>\n      <td>263</td>\n    </tr>\n    <tr>\n      <th>10</th>\n      <td>E</td>\n      <td>H</td>\n      <td>D</td>\n      <td>BigTruck</td>\n      <td>78</td>\n    </tr>\n    <tr>\n      <th>11</th>\n      <td>D</td>\n      <td>G</td>\n      <td>A</td>\n      <td>BigTruck</td>\n      <td>75</td>\n    </tr>\n    <tr>\n      <th>12</th>\n      <td>A</td>\n      <td>H</td>\n      <td>F</td>\n      <td>BigTruck</td>\n      <td>300</td>\n    </tr>\n    <tr>\n      <th>13</th>\n      <td>B</td>\n      <td>H</td>\n      <td>C</td>\n      <td>SmallTruck</td>\n      <td>200</td>\n    </tr>\n    <tr>\n      <th>14</th>\n      <td>D</td>\n      <td>H</td>\n      <td>C</td>\n      <td>SmallTruck</td>\n      <td>245</td>\n    </tr>\n    <tr>\n      <th>15</th>\n      <td>F</td>\n      <td>H</td>\n      <td>D</td>\n      <td>BigTruck</td>\n      <td>68</td>\n    </tr>\n    <tr>\n      <th>16</th>\n      <td>F</td>\n      <td>H</td>\n      <td>D</td>\n      <td>SmallTruck</td>\n      <td>144</td>\n    </tr>\n    <tr>\n      <th>17</th>\n      <td>E</td>\n      <td>H</td>\n      <td>F</td>\n      <td>BigTruck</td>\n      <td>107</td>\n    </tr>\n    <tr>\n      <th>18</th>\n      <td>B</td>\n      <td>H</td>\n      <td>A</td>\n      <td>BigTruck</td>\n      <td>185</td>\n    </tr>\n    <tr>\n      <th>19</th>\n      <td>E</td>\n      <td>H</td>\n      <td>A</td>\n      <td>BigTruck</td>\n      <td>123</td>\n    </tr>\n    <tr>\n      <th>20</th>\n      <td>D</td>\n      <td>G</td>\n      <td>B</td>\n      <td>BigTruck</td>\n      <td>135</td>\n    </tr>\n    <tr>\n      <th>21</th>\n      <td>C</td>\n      <td>H</td>\n      <td>F</td>\n      <td>SmallTruck</td>\n      <td>106</td>\n    </tr>\n    <tr>\n      <th>22</th>\n      <td>D</td>\n      <td>G</td>\n      <td>E</td>\n      <td>BigTruck</td>\n      <td>283</td>\n    </tr>\n    <tr>\n      <th>23</th>\n      <td>C</td>\n      <td>H</td>\n      <td>E</td>\n      <td>BigTruck</td>\n      <td>120</td>\n    </tr>\n    <tr>\n      <th>24</th>\n      <td>C</td>\n      <td>H</td>\n      <td>E</td>\n      <td>SmallTruck</td>\n      <td>101</td>\n    </tr>\n    <tr>\n      <th>25</th>\n      <td>E</td>\n      <td>H</td>\n      <td>C</td>\n      <td>BigTruck</td>\n      <td>143</td>\n    </tr>\n    <tr>\n      <th>26</th>\n      <td>C</td>\n      <td>H</td>\n      <td>D</td>\n      <td>BigTruck</td>\n      <td>258</td>\n    </tr>\n    <tr>\n      <th>27</th>\n      <td>E</td>\n      <td>H</td>\n      <td>B</td>\n      <td>BigTruck</td>\n      <td>234</td>\n    </tr>\n    <tr>\n      <th>28</th>\n      <td>C</td>\n      <td>H</td>\n      <td>B</td>\n      <td>BigTruck</td>\n      <td>178</td>\n    </tr>\n    <tr>\n      <th>29</th>\n      <td>F</td>\n      <td>H</td>\n      <td>A</td>\n      <td>BigTruck</td>\n      <td>201</td>\n    </tr>\n    <tr>\n      <th>30</th>\n      <td>C</td>\n      <td>H</td>\n      <td>A</td>\n      <td>BigTruck</td>\n      <td>143</td>\n    </tr>\n    <tr>\n      <th>31</th>\n      <td>F</td>\n      <td>H</td>\n      <td>B</td>\n      <td>BigTruck</td>\n      <td>157</td>\n    </tr>\n    <tr>\n      <th>32</th>\n      <td>F</td>\n      <td>H</td>\n      <td>C</td>\n      <td>BigTruck</td>\n      <td>169</td>\n    </tr>\n  </tbody>\n</table>\n</div>", 
                        "text/plain": "   origin hub destination   truckType  quantity\n0       A   H           C    BigTruck       250\n1       B   H           F  SmallTruck       197\n2       F   H           E    BigTruck       104\n3       A   H           B    BigTruck       300\n4       D   H           F  SmallTruck       155\n5       A   H           E    BigTruck       145\n6       B   H           D    BigTruck       218\n7       B   H           D  SmallTruck         3\n8       A   H           D    BigTruck       350\n9       B   H           E    BigTruck       263\n10      E   H           D    BigTruck        78\n11      D   G           A    BigTruck        75\n12      A   H           F    BigTruck       300\n13      B   H           C  SmallTruck       200\n14      D   H           C  SmallTruck       245\n15      F   H           D    BigTruck        68\n16      F   H           D  SmallTruck       144\n17      E   H           F    BigTruck       107\n18      B   H           A    BigTruck       185\n19      E   H           A    BigTruck       123\n20      D   G           B    BigTruck       135\n21      C   H           F  SmallTruck       106\n22      D   G           E    BigTruck       283\n23      C   H           E    BigTruck       120\n24      C   H           E  SmallTruck       101\n25      E   H           C    BigTruck       143\n26      C   H           D    BigTruck       258\n27      E   H           B    BigTruck       234\n28      C   H           B    BigTruck       178\n29      F   H           A    BigTruck       201\n30      C   H           A    BigTruck       143\n31      F   H           B    BigTruck       157\n32      F   H           C    BigTruck       169"
                    }, 
                    "metadata": {}, 
                    "output_type": "display_data"
                }
            ]
        }, 
        {
            "source": "display(outVolumeThroughHubOnTruckRes)", 
            "metadata": {}, 
            "execution_count": 32, 
            "cell_type": "code", 
            "outputs": [
                {
                    "data": {
                        "text/html": "<div>\n<style scoped>\n    .dataframe tbody tr th:only-of-type {\n        vertical-align: middle;\n    }\n\n    .dataframe tbody tr th {\n        vertical-align: top;\n    }\n\n    .dataframe thead th {\n        text-align: right;\n    }\n</style>\n<table border=\"1\" class=\"dataframe\">\n  <thead>\n    <tr style=\"text-align: right;\">\n      <th></th>\n      <th>origin</th>\n      <th>hub</th>\n      <th>destination</th>\n      <th>truckType</th>\n      <th>quantity</th>\n    </tr>\n  </thead>\n  <tbody>\n    <tr>\n      <th>0</th>\n      <td>A</td>\n      <td>H</td>\n      <td>C</td>\n      <td>SmallTruck</td>\n      <td>250</td>\n    </tr>\n    <tr>\n      <th>1</th>\n      <td>B</td>\n      <td>H</td>\n      <td>F</td>\n      <td>BigTruck</td>\n      <td>197</td>\n    </tr>\n    <tr>\n      <th>2</th>\n      <td>F</td>\n      <td>H</td>\n      <td>E</td>\n      <td>BigTruck</td>\n      <td>104</td>\n    </tr>\n    <tr>\n      <th>3</th>\n      <td>A</td>\n      <td>H</td>\n      <td>B</td>\n      <td>BigTruck</td>\n      <td>300</td>\n    </tr>\n    <tr>\n      <th>4</th>\n      <td>D</td>\n      <td>H</td>\n      <td>F</td>\n      <td>SmallTruck</td>\n      <td>155</td>\n    </tr>\n    <tr>\n      <th>5</th>\n      <td>A</td>\n      <td>H</td>\n      <td>E</td>\n      <td>BigTruck</td>\n      <td>145</td>\n    </tr>\n    <tr>\n      <th>6</th>\n      <td>B</td>\n      <td>H</td>\n      <td>D</td>\n      <td>BigTruck</td>\n      <td>221</td>\n    </tr>\n    <tr>\n      <th>7</th>\n      <td>A</td>\n      <td>H</td>\n      <td>D</td>\n      <td>BigTruck</td>\n      <td>350</td>\n    </tr>\n    <tr>\n      <th>8</th>\n      <td>B</td>\n      <td>H</td>\n      <td>E</td>\n      <td>BigTruck</td>\n      <td>263</td>\n    </tr>\n    <tr>\n      <th>9</th>\n      <td>E</td>\n      <td>H</td>\n      <td>D</td>\n      <td>SmallTruck</td>\n      <td>78</td>\n    </tr>\n    <tr>\n      <th>10</th>\n      <td>D</td>\n      <td>G</td>\n      <td>A</td>\n      <td>SmallTruck</td>\n      <td>75</td>\n    </tr>\n    <tr>\n      <th>11</th>\n      <td>A</td>\n      <td>H</td>\n      <td>F</td>\n      <td>BigTruck</td>\n      <td>300</td>\n    </tr>\n    <tr>\n      <th>12</th>\n      <td>B</td>\n      <td>H</td>\n      <td>C</td>\n      <td>BigTruck</td>\n      <td>200</td>\n    </tr>\n    <tr>\n      <th>13</th>\n      <td>D</td>\n      <td>H</td>\n      <td>C</td>\n      <td>BigTruck</td>\n      <td>245</td>\n    </tr>\n    <tr>\n      <th>14</th>\n      <td>F</td>\n      <td>H</td>\n      <td>D</td>\n      <td>BigTruck</td>\n      <td>212</td>\n    </tr>\n    <tr>\n      <th>15</th>\n      <td>E</td>\n      <td>H</td>\n      <td>F</td>\n      <td>BigTruck</td>\n      <td>107</td>\n    </tr>\n    <tr>\n      <th>16</th>\n      <td>B</td>\n      <td>H</td>\n      <td>A</td>\n      <td>BigTruck</td>\n      <td>185</td>\n    </tr>\n    <tr>\n      <th>17</th>\n      <td>E</td>\n      <td>H</td>\n      <td>A</td>\n      <td>SmallTruck</td>\n      <td>123</td>\n    </tr>\n    <tr>\n      <th>18</th>\n      <td>D</td>\n      <td>G</td>\n      <td>B</td>\n      <td>SmallTruck</td>\n      <td>135</td>\n    </tr>\n    <tr>\n      <th>19</th>\n      <td>C</td>\n      <td>H</td>\n      <td>F</td>\n      <td>BigTruck</td>\n      <td>106</td>\n    </tr>\n    <tr>\n      <th>20</th>\n      <td>D</td>\n      <td>G</td>\n      <td>E</td>\n      <td>BigTruck</td>\n      <td>283</td>\n    </tr>\n    <tr>\n      <th>21</th>\n      <td>C</td>\n      <td>H</td>\n      <td>E</td>\n      <td>BigTruck</td>\n      <td>221</td>\n    </tr>\n    <tr>\n      <th>22</th>\n      <td>E</td>\n      <td>H</td>\n      <td>C</td>\n      <td>BigTruck</td>\n      <td>143</td>\n    </tr>\n    <tr>\n      <th>23</th>\n      <td>C</td>\n      <td>H</td>\n      <td>D</td>\n      <td>BigTruck</td>\n      <td>258</td>\n    </tr>\n    <tr>\n      <th>24</th>\n      <td>E</td>\n      <td>H</td>\n      <td>B</td>\n      <td>SmallTruck</td>\n      <td>234</td>\n    </tr>\n    <tr>\n      <th>25</th>\n      <td>C</td>\n      <td>H</td>\n      <td>B</td>\n      <td>BigTruck</td>\n      <td>178</td>\n    </tr>\n    <tr>\n      <th>26</th>\n      <td>F</td>\n      <td>H</td>\n      <td>A</td>\n      <td>SmallTruck</td>\n      <td>201</td>\n    </tr>\n    <tr>\n      <th>27</th>\n      <td>C</td>\n      <td>H</td>\n      <td>A</td>\n      <td>BigTruck</td>\n      <td>143</td>\n    </tr>\n    <tr>\n      <th>28</th>\n      <td>F</td>\n      <td>H</td>\n      <td>B</td>\n      <td>SmallTruck</td>\n      <td>157</td>\n    </tr>\n    <tr>\n      <th>29</th>\n      <td>F</td>\n      <td>H</td>\n      <td>C</td>\n      <td>BigTruck</td>\n      <td>169</td>\n    </tr>\n  </tbody>\n</table>\n</div>", 
                        "text/plain": "   origin hub destination   truckType  quantity\n0       A   H           C  SmallTruck       250\n1       B   H           F    BigTruck       197\n2       F   H           E    BigTruck       104\n3       A   H           B    BigTruck       300\n4       D   H           F  SmallTruck       155\n5       A   H           E    BigTruck       145\n6       B   H           D    BigTruck       221\n7       A   H           D    BigTruck       350\n8       B   H           E    BigTruck       263\n9       E   H           D  SmallTruck        78\n10      D   G           A  SmallTruck        75\n11      A   H           F    BigTruck       300\n12      B   H           C    BigTruck       200\n13      D   H           C    BigTruck       245\n14      F   H           D    BigTruck       212\n15      E   H           F    BigTruck       107\n16      B   H           A    BigTruck       185\n17      E   H           A  SmallTruck       123\n18      D   G           B  SmallTruck       135\n19      C   H           F    BigTruck       106\n20      D   G           E    BigTruck       283\n21      C   H           E    BigTruck       221\n22      E   H           C    BigTruck       143\n23      C   H           D    BigTruck       258\n24      E   H           B  SmallTruck       234\n25      C   H           B    BigTruck       178\n26      F   H           A  SmallTruck       201\n27      C   H           A    BigTruck       143\n28      F   H           B  SmallTruck       157\n29      F   H           C    BigTruck       169"
                    }, 
                    "metadata": {}, 
                    "output_type": "display_data"
                }
            ]
        }, 
        {
            "source": "display(inBoundAggregated)", 
            "metadata": {}, 
            "execution_count": 33, 
            "cell_type": "code", 
            "outputs": [
                {
                    "data": {
                        "text/html": "<div>\n<style scoped>\n    .dataframe tbody tr th:only-of-type {\n        vertical-align: middle;\n    }\n\n    .dataframe tbody tr th {\n        vertical-align: top;\n    }\n\n    .dataframe thead th {\n        text-align: right;\n    }\n</style>\n<table border=\"1\" class=\"dataframe\">\n  <thead>\n    <tr style=\"text-align: right;\">\n      <th></th>\n      <th>spoke</th>\n      <th>hub</th>\n      <th>truckType</th>\n      <th>quantity</th>\n    </tr>\n  </thead>\n  <tbody>\n    <tr>\n      <th>0</th>\n      <td>D</td>\n      <td>G</td>\n      <td>BigTruck</td>\n      <td>493</td>\n    </tr>\n    <tr>\n      <th>1</th>\n      <td>A</td>\n      <td>H</td>\n      <td>BigTruck</td>\n      <td>1345</td>\n    </tr>\n    <tr>\n      <th>2</th>\n      <td>B</td>\n      <td>H</td>\n      <td>BigTruck</td>\n      <td>666</td>\n    </tr>\n    <tr>\n      <th>3</th>\n      <td>B</td>\n      <td>H</td>\n      <td>SmallTruck</td>\n      <td>400</td>\n    </tr>\n    <tr>\n      <th>4</th>\n      <td>C</td>\n      <td>H</td>\n      <td>BigTruck</td>\n      <td>699</td>\n    </tr>\n    <tr>\n      <th>5</th>\n      <td>C</td>\n      <td>H</td>\n      <td>SmallTruck</td>\n      <td>207</td>\n    </tr>\n    <tr>\n      <th>6</th>\n      <td>D</td>\n      <td>H</td>\n      <td>SmallTruck</td>\n      <td>400</td>\n    </tr>\n    <tr>\n      <th>7</th>\n      <td>E</td>\n      <td>H</td>\n      <td>BigTruck</td>\n      <td>685</td>\n    </tr>\n    <tr>\n      <th>8</th>\n      <td>F</td>\n      <td>H</td>\n      <td>BigTruck</td>\n      <td>699</td>\n    </tr>\n    <tr>\n      <th>9</th>\n      <td>F</td>\n      <td>H</td>\n      <td>SmallTruck</td>\n      <td>144</td>\n    </tr>\n  </tbody>\n</table>\n</div>", 
                        "text/plain": "  spoke hub   truckType  quantity\n0     D   G    BigTruck       493\n1     A   H    BigTruck      1345\n2     B   H    BigTruck       666\n3     B   H  SmallTruck       400\n4     C   H    BigTruck       699\n5     C   H  SmallTruck       207\n6     D   H  SmallTruck       400\n7     E   H    BigTruck       685\n8     F   H    BigTruck       699\n9     F   H  SmallTruck       144"
                    }, 
                    "metadata": {}, 
                    "output_type": "display_data"
                }
            ]
        }, 
        {
            "source": "display(outBoundAggregated)", 
            "metadata": {}, 
            "execution_count": 34, 
            "cell_type": "code", 
            "outputs": [
                {
                    "data": {
                        "text/html": "<div>\n<style scoped>\n    .dataframe tbody tr th:only-of-type {\n        vertical-align: middle;\n    }\n\n    .dataframe tbody tr th {\n        vertical-align: top;\n    }\n\n    .dataframe thead th {\n        text-align: right;\n    }\n</style>\n<table border=\"1\" class=\"dataframe\">\n  <thead>\n    <tr style=\"text-align: right;\">\n      <th></th>\n      <th>spoke</th>\n      <th>hub</th>\n      <th>truckType</th>\n      <th>quantity</th>\n    </tr>\n  </thead>\n  <tbody>\n    <tr>\n      <th>0</th>\n      <td>D</td>\n      <td>G</td>\n      <td>BigTruck</td>\n      <td>0</td>\n    </tr>\n    <tr>\n      <th>1</th>\n      <td>A</td>\n      <td>H</td>\n      <td>BigTruck</td>\n      <td>328</td>\n    </tr>\n    <tr>\n      <th>2</th>\n      <td>B</td>\n      <td>H</td>\n      <td>BigTruck</td>\n      <td>478</td>\n    </tr>\n    <tr>\n      <th>3</th>\n      <td>B</td>\n      <td>H</td>\n      <td>SmallTruck</td>\n      <td>391</td>\n    </tr>\n    <tr>\n      <th>4</th>\n      <td>C</td>\n      <td>H</td>\n      <td>BigTruck</td>\n      <td>757</td>\n    </tr>\n    <tr>\n      <th>5</th>\n      <td>C</td>\n      <td>H</td>\n      <td>SmallTruck</td>\n      <td>250</td>\n    </tr>\n    <tr>\n      <th>6</th>\n      <td>D</td>\n      <td>H</td>\n      <td>SmallTruck</td>\n      <td>78</td>\n    </tr>\n    <tr>\n      <th>7</th>\n      <td>E</td>\n      <td>H</td>\n      <td>BigTruck</td>\n      <td>733</td>\n    </tr>\n    <tr>\n      <th>8</th>\n      <td>F</td>\n      <td>H</td>\n      <td>BigTruck</td>\n      <td>710</td>\n    </tr>\n    <tr>\n      <th>9</th>\n      <td>F</td>\n      <td>H</td>\n      <td>SmallTruck</td>\n      <td>155</td>\n    </tr>\n  </tbody>\n</table>\n</div>", 
                        "text/plain": "  spoke hub   truckType  quantity\n0     D   G    BigTruck         0\n1     A   H    BigTruck       328\n2     B   H    BigTruck       478\n3     B   H  SmallTruck       391\n4     C   H    BigTruck       757\n5     C   H  SmallTruck       250\n6     D   H  SmallTruck        78\n7     E   H    BigTruck       733\n8     F   H    BigTruck       710\n9     F   H  SmallTruck       155"
                    }, 
                    "metadata": {}, 
                    "output_type": "display_data"
                }
            ]
        }, 
        {
            "metadata": {}, 
            "source": "## The Assignment Problem\n\nThe Assignment Problem is the problem of assigning one set of items to another, while optimizing a given objective.  For example, the problem of assigning workers to jobs so as to minimize the hiring costs.  \n\n<p>\n<ul>\n<img src = \"https://ibmdecisionoptimization.github.io/tutorials/jupyter/training/1_11.png?raw=true\" >\n</ul> \n\nIn this example, the workers are represented by nodes 1 through 3, while the jobs are represented with nodes A, B and C.  The cost of assigning a worker to a job is shown on each arc.  \n- The objective is to minimize the total assignment cost.  \n- Again, the constraints can be seen as flow conservation constraints.  \n- The first three constraints state that each job is filled by exactly one person, while the last three constraints state that each person is assigned to exactly one job.  The variables should now take a value of 1 if worker i is assigned to job j, and zero otherwise.  \n\nThis problem is a special case of the transportation problem, \n- with each supply node capacity set to one, and each demand set to 1.  \n- What\u2019s also important to know is that even though the variables must take 0-1 values, \n- they can be declared as continuous variables due to the integrality property, namely that if all capacity and demand quantities are integer, the variables will take integer values.", 
            "cell_type": "markdown"
        }, 
        {
            "source": "## The business problem:  Transportation Optimization Problem  \n\n\n* A trucking company has a hub and spoke system. The shipments to be delivered are specified by an originating spoke, a destination spoke, and a shipment volume. The trucks have different types defined by a maximum capacity, a speed, and a cost per mile. The model assigns the correct number of trucks to each route in order to minimize the cost of transshipment and meet the volume requirements. There is a minimum departure time and a maximum return time for trucks at a spoke, and a load and unload time at the hub. Trucks of different types travel at different speeds. Therefore, shipments are available at each hub in a timely manner. Volume availability constraints are taken into account, meaning that the shipments that will be carried back from a hub to a spoke by a truck must be available for loading before the truck leaves.\n\n* The assumptions are:\n\n   * Exactly the same number of trucks that go from spoke to hub return from hub to spoke.\n   * Each truck arrives at a hub as early as possible and leaves as late as possible.\n   * The shipments can be broken arbitrarily into smaller packages and shipped through different paths.", 
            "metadata": {}, 
            "execution_count": null, 
            "cell_type": "code", 
            "outputs": []
        }, 
        {
            "metadata": {}, 
            "source": "## The Shortest Path Problem\n\nThe Shortest Path Problem is the problem of finding the shortest path through a network.  \n- For example, to find the minimum travel time between two cities in a network of cities.  \n- The shortest path problem is a special case of the transshipment problem, \n#### where there is exactly one supply node and one demand node, and the supply and demand are both equal to 1.  \n\n<p>\n<ul>\n<img src = \"https://ibmdecisionoptimization.github.io/tutorials/jupyter/training/1_12.png?raw=true\" >\n</ul> \n\nIn this example, each node represents a city, and each arc represents the road connecting two cities.  \nThe travel time is indicated on each arc.  The variable x(i, j) takes a value of 1 if the arc between i and j is included in the shortest path, and zero otherwise.  \nThe objective is to minimize the total travel time.  As with the other network problems, the constraints can be seen as flow conservation constraints.  \nA constraint exists for each node (or each city) and the constraints state that exactly one arc should be chosen into each city, and exactly one arc should be chosen out of each city.  \n\nAgain, even though the x variables must take 0-1 values, they can be declared as continuous due to the integrality property (that is, all the capacity and demand quantities are integer). \n", 
            "cell_type": "markdown"
        }, 
        {
            "metadata": {}, 
            "source": "## Critical Path Analysis\n\nCritical path analysis is a technique used in project planning to find the set of critical activities \n#### where a delay in one of the critical activities will lead to an overall project delay.  \n\n\n\n- The critical path is the longest path in the network.  \n- It represents the minimum completion time of the project, and if any task on the critical path is delayed, the entire project will be delayed.  \n- Tasks that do not lie on the critical path may be delayed to some extent without impacting the final completion date of the project.  \n- The critical path will change if a non-critical task is delayed to a point where it becomes critical. \n\nFor example, consider a kitchen remodeling project where the home owners are remodeling their kitchen with the eventual goal of hosting a party.  Some of the tasks can be done simultaneously, such as plumbing and electricity, while others can only be started once a previous task is complete, for example the sink can only be installed once the plumbing is complete.  The critical path will indicate the minimum time for completing this project, so that they know when they can have their party.  \n\n<p>\n<ul>\n<img src = \"https://ibmdecisionoptimization.github.io/tutorials/jupyter/training/1_13.png?raw=true\" >\n</ul> \n\nHere, the arcs show the task durations, while the nodes show the task start times.  \n- For modeling purposes, let t(i) be the start time of the tasks originating at node i.  \n- The objective is to minimize the project completion time, namely t7.  \n- The constraints indicate the task duration and precedence.  \n\n\nFor example, the third constraint indicates that the minimum time between starting the sink installation (that is, node 3), and starting the plumbing (that is, node 1) is 3 days.  Arcs 3-2 and 4-2 are dummy tasks required to complete the model.  Such dummy tasks have no minimum time associated with them, but are used to model precedence involving more than one preceding tasks of varying duration, in this case that the plumbing, electricity, and appliance order time must be complete before appliances can be installed. \n\n#### In this graph, it\u2019s easy to see that the critical path lies on nodes 0 \u2013 2 \u2013 6 \u2013 7, with a total length of 19 days.  Therefore, any delay in the appliance ordering or installation will delay the party date.  \n\nLarge projects can lead to very complex networks, and specialized algorithms exist for critical path analysis.\n", 
            "cell_type": "markdown"
        }, 
        {
            "metadata": {}, 
            "source": "# Non-linearity and Convexity\n## Non-linearity\n\nIn many problems, the relationships between decision variables are not linear. \nExamples of industries where nonlinear optimization problems are often encountered are:\nThe chemical process industry, for example oil refining or pipeline design\nThe finance sector, for example stock portfolio optimization\n\n- Nonlinear Programming (NLP) is often used to solve such optimization problems. One of the NLP techniques available through DOcplex is Quadratic Programming (QP), used especially for portfolio optimization. \n\n- Sometimes it is possible to approximate a nonlinear function with a set of linear functions and then solve the problem using LP techniques. The success of this depends on whether the nonlinear function is convex or nonconvex. \n\n## Convexity\n\nA region of the space is _convex_ if any point lying on a straight line between any two points in the region is also in the region.\n\nAll LPs are convex, because an LP involves the minimization of a linear function over a feasible region defined by a set of linear functions, and linear functions are convex.\n\n<p>\n<ul>\n<img src = \"https://ibmdecisionoptimization.github.io/tutorials/jupyter/training/1_19.png?raw=true\" >\n</ul> \n\n## Approximating a non-linear program with piecewise-linear functions\n\nA convex nonlinear function can be approximated by a set of linear functions, as shown in the next figure. This could be used to allow solution with LP techniques.  \n\nSuch an approximate function consisting of several linear line segments is called a _piecewise linear_ function. \n\n<p>\n<ul>\n<img src = \"https://ibmdecisionoptimization.github.io/tutorials/jupyter/training/1_21.png?raw=true\" >\n</ul> \n\nWe will start by discussing this approximation.\n\nPiecewise linear programming is used when dealing with functions consisting of several linear segments. Examples of where this might be appropriate are piecewise linear approximations of convex nonlinear functions, and \n\n#### piecewise linear functions representing economies of scale (for example a unit cost that changes when a certain number of units are ordered.) \n\n## An example of piecewise linear programming: economies of scale\n\n\nConsider a transportation problem in which the transportation cost between an origin,$i$, and a destination, $j$, depends on the size of the shipment, $ship_{ij}$:\n- The first 1000 items have a shipping cost of \\$0.40 per item\n- For the next 2000 items (i.e. items 1001-3000) the cost is \\$ 0.20 per item\n- From item 3001 on, the cost decreases to \\$ 0.10 per item.\n\nThe cost of each quantity bracket remains intact (that is, the cost per unit changes only for additional units, and remains unchanged for the previous quantity bracket). \n\nWithin each bracket there is a linear relationship between cost and quantity, but at each breakpoint the rate of linear variation changes. \n\nIf you graph this function, you see that at each breakpoint, the slope of the line changes. The section of the graph between two breakpoints is a linear piece.\n\n<p>\n<ul>\n<img src = \"https://ibmdecisionoptimization.github.io/tutorials/jupyter/training/1_25.png?raw=true\" >\n</ul> \n\nThe diagram shows that the total shipping cost is evaluated by 3 different linear functions, each determined by the quantity shipped $Q$:\n\n- 0.40 * items when $Q \\le 1000$,\n- 0.40 * 1000 + 0.20 * (Q - 1000) when $1000 <= Q = 3000$,\n- 0.40 * 1000 + 0.20 * 2000 + 0.10 * (Q - 3000) when $Q \\ge 3000$.\n\nThis is an example of a piecewise linear function. Note that this function is _continuous_, that is has no 'jump' in its values, but this not mandatory for piecewise linear functions.\n\n### Piecewise linear functions with DOcplex\n\nDOcplex lets you define piecewise linear functions in two styles: either with a set of points, or with a set of values and slopes. As the problem is formulated with slopes, we'll start with this formulation.\n\nThe `Model.piecewise_with_slopes` method takes a sequence of $(x_{i}, slope_{i})$ values where $slope_{i}$ is the slope of the function between $x_{i-1}$ and $x_{i}$.", 
            "cell_type": "markdown"
        }, 
        {
            "source": "# create a new model to attach piecewise\npm = Model(name='pwl')\npwf1 = pm.piecewise_as_slopes([(0, 0), (0.4, 1000), (0.2, 3000)], lastslope=0.1)\n# plot the function\npwf1.plot(lx=-1, rx=4000, k=1, color='b', marker='s', linewidth=2)", 
            "metadata": {}, 
            "execution_count": null, 
            "cell_type": "code", 
            "outputs": []
        }, 
        {
            "metadata": {}, 
            "source": "#### Defining a piecewise linear functions from break points\n\nDOcplex also allows to define a piecewise linear function from the set of its _break_ points, that is a sequence of $(x_{i}, y_{i})$ values, plus the final slope towards $+\\infty$. Here the sequence of breakpoints is:\n\n- (0,0)\n- (1000, 400): computed with 0.4 marginal cost\n- (3000, 800): computed as 400 + 0.2 * (3000 - 1000)\n- final slope is 0.1", 
            "cell_type": "markdown"
        }, 
        {
            "source": "pwf2 = pm.piecewise(preslope=0, breaksxy=[(0, 0), (1000, 400), (3000, 800)], postslope=0.1)\n# plot the function\npwf2.plot(lx=-1, rx=4000, k=1, color='r', marker='o', linewidth=2)", 
            "metadata": {}, 
            "execution_count": null, 
            "cell_type": "code", 
            "outputs": []
        }, 
        {
            "metadata": {}, 
            "source": "To bind a variable $y$ to the result of applying the peicewise linear function to another variable $x$, you just have to add the following constraint to the model:", 
            "cell_type": "markdown"
        }, 
        {
            "source": "x = pm.continuous_var(name='x')\ny = pm.continuous_var(name='y')\npm.add_constraint(y == pwf2(x));  # y is constrained to be equal to f(x)", 
            "metadata": {}, 
            "execution_count": null, 
            "cell_type": "code", 
            "outputs": []
        }, 
        {
            "metadata": {}, 
            "source": "# Quadratic Programming\n\n## Quadratic Functions\n\nMathematically, a function is quadratic if: \n- The variables are only first or second degree (that is, one variable may be multiplied by another variable, and any of the variables may be squared) and\n- The coefficients of the variables are constant numeric values (that is, integers or real numbers). \n\nA quadratic function is also known as a **second degree polynomial function** \n\nGeometrically, a quadratic function is a curve or curved surface. For example, a quadratic function in two dimensions is a curved line, such as a parabola, hyperbola, ellipse, or circle. \n\n## What is a Quadratic Program?\n\n\nQuadratic Programs (or QPs) have quadratic objectives and linear constraints. A model that has quadratic functions in the constraints is a Quadratically Constrained Program (or QCP). The objective function of a QCP may be quadratic or linear.  \nA simple formulation of a QP is:\n\n$$\n\t{minimize}\\ \\frac{1}{2}{x^{t}Qx + c^{t}x}\\\\ \nsubject\\ to \\\\\n\\ \\ \tAx \\ge b \\\\\n\\ \\ \tlb \\le x \\le ub \\\\\n$$\n\n- The first objective term is quadratic, with Q being the matrix of objective function coefficients of the quadratic terms. The second term and the constraints are linear. \n- CPLEX Optimizer can solve convex QP and QCP problems. Quadratic programming is used in several real-world situations, for example portfolio management or chemical process modeling. \n- In the next two slides, you\u2019ll see how QP applies to portfolio management. \n\nA model that has quadratic functions in the constraints is a Quadratically Constrained Program (QCP). The objective function of a QCP problem may be quadratic or linear. ", 
            "cell_type": "markdown"
        }, 
        {
            "metadata": {}, 
            "source": "## Portfolio management\n\nIn order to mitigate risk while ensuring a reasonable level of return, investors purchase a variety of securities and combine these into an investment portfolio. Each security has an expected return and an associated level of risk (or variance). \n\nSecurities sometimes covary, that is, they change together with some classes of securities, and in the opposite direction of other classes of securities. \n- An example of positive covariance is when shares in technology companies follow similar patterns of increases and decreases in value. \n- Negative covarianceas, the price of oil rises, shares in oil companies may increase in value, but plastics manufacturers, who depend on petroleum as a major primary resource, may see their shares decline in value as their costs go up and vice versa. \nTo optimize a portfolio in terms of risk and return, an investor will evaluate the sum of expected returns of the securities, the total variances of the securities, and the covariances of the securities.  A portfolio that contains a large number of positively covariant securities is more risky (and potentially more rewarding) than one that contains a mix of positively and negatively covariant securities. \n\n### Potfolio optimization: what use?\n\nPortfolio optimization is used to select securities to maximize the rate of return, while managing the volatility of the portfolio and remaining within the investment budget. \n\nAs the securities covary with one another, selecting the right mix of securities can change or even reduce the volatility of the portfolio with the same expected return. \n\nAt a given expected rate of return, there is one portfolio which has the lowest risk. If you plot each lowest-risk portfolio for each expected rate of return, the result is a convex graph, called the efficient frontier. \n\nThe risk-return characteristics of a portfolio change in a nonlinear fashion, and quadratic expressions are used to model them.", 
            "cell_type": "markdown"
        }, 
        {
            "metadata": {}, 
            "source": "Data comes in two parts:\n\n- Basic data on shares: activity sector, expected return rate, and whether or not activity is based in North America\n- The covariance square matrix for all pairs of shares.\n\nThe `pandas` Python data analysis library is used to store the data. Let's set up and declare the data.", 
            "cell_type": "markdown"
        }, 
        {
            "source": "import pandas as pd\nfrom pandas import DataFrame", 
            "metadata": {}, 
            "execution_count": 35, 
            "cell_type": "code", 
            "outputs": []
        }, 
        {
            "source": "sec_data = {\n    'sector': ['treasury', 'hardware', 'theater', 'telecom', 'brewery', 'highways', 'cars', 'bank', 'software',\n               'electronics'],\n    'return': [5, 17, 26, 12, 8, 9, 7, 6, 31, 21],\n    'area': ['N-Am.', 'N-Am.', 'N-Am.', 'N-Am.', \"ww\", 'ww', 'ww', 'ww', 'ww', 'ww']\n}\n\ndf_secs = DataFrame(sec_data, columns=['sector', 'return', 'area'])\ndf_secs.set_index(['sector'], inplace=True)\n\n# store set of share names\nsecurities = df_secs.index\ndf_secs", 
            "metadata": {}, 
            "execution_count": 36, 
            "cell_type": "code", 
            "outputs": [
                {
                    "data": {
                        "text/html": "<div>\n<style scoped>\n    .dataframe tbody tr th:only-of-type {\n        vertical-align: middle;\n    }\n\n    .dataframe tbody tr th {\n        vertical-align: top;\n    }\n\n    .dataframe thead th {\n        text-align: right;\n    }\n</style>\n<table border=\"1\" class=\"dataframe\">\n  <thead>\n    <tr style=\"text-align: right;\">\n      <th></th>\n      <th>return</th>\n      <th>area</th>\n    </tr>\n    <tr>\n      <th>sector</th>\n      <th></th>\n      <th></th>\n    </tr>\n  </thead>\n  <tbody>\n    <tr>\n      <th>treasury</th>\n      <td>5</td>\n      <td>N-Am.</td>\n    </tr>\n    <tr>\n      <th>hardware</th>\n      <td>17</td>\n      <td>N-Am.</td>\n    </tr>\n    <tr>\n      <th>theater</th>\n      <td>26</td>\n      <td>N-Am.</td>\n    </tr>\n    <tr>\n      <th>telecom</th>\n      <td>12</td>\n      <td>N-Am.</td>\n    </tr>\n    <tr>\n      <th>brewery</th>\n      <td>8</td>\n      <td>ww</td>\n    </tr>\n    <tr>\n      <th>highways</th>\n      <td>9</td>\n      <td>ww</td>\n    </tr>\n    <tr>\n      <th>cars</th>\n      <td>7</td>\n      <td>ww</td>\n    </tr>\n    <tr>\n      <th>bank</th>\n      <td>6</td>\n      <td>ww</td>\n    </tr>\n    <tr>\n      <th>software</th>\n      <td>31</td>\n      <td>ww</td>\n    </tr>\n    <tr>\n      <th>electronics</th>\n      <td>21</td>\n      <td>ww</td>\n    </tr>\n  </tbody>\n</table>\n</div>", 
                        "text/plain": "             return   area\nsector                    \ntreasury          5  N-Am.\nhardware         17  N-Am.\ntheater          26  N-Am.\ntelecom          12  N-Am.\nbrewery           8     ww\nhighways          9     ww\ncars              7     ww\nbank              6     ww\nsoftware         31     ww\nelectronics      21     ww"
                    }, 
                    "metadata": {}, 
                    "execution_count": 36, 
                    "output_type": "execute_result"
                }
            ]
        }, 
        {
            "metadata": {}, 
            "source": "### The covariance matrix\n\nCovraiance matrix is a square matrix (its size is the nu,ber of shares). The covariance matrix is also stored in a pandas DataFrame.", 
            "cell_type": "markdown"
        }, 
        {
            "source": "# the variance matrix\nvar = {\n    \"treasury\": [0.1, 0, 0, 0, 0, 0, 0, 0, 0, 0],\n    \"hardware\": [0, 19, -2, 4, 1, 1, 1, 0.5, 10, 5],\n    \"theater\": [0, -2, 28, 1, 2, 1, 1, 0, -2, -1],\n    \"telecom\": [0, 4, 1, 22, 0, 1, 2, 0, 3, 4],\n    \"brewery\": [0, 1, 2, 0, 4, -1.5, -2, -1, 1, 1],\n    \"highways\": [0, 1, 1, 1, -1.5, 3.5, 2, 0.5, 1, 1.5],\n    \"cars\": [0, 1, 1, 2, -2, 2, 5, 0.5, 1, 2.5],\n    \"bank\": [0, 0.5, 0, 0, -1, 0.5, 0.5, 1, 0.5, 0.5],\n    \"software\": [0, 10, -2, 3, 1, 1, 1, 0.5, 25, 8],\n    \"electronics\": [0, 5, -1, 4, 1, 1.5, 2.5, 0.5, 8, 16]\n}\n\ndfv = pd.DataFrame(var, index=securities, columns=securities)\ndfv", 
            "metadata": {}, 
            "execution_count": 37, 
            "cell_type": "code", 
            "outputs": [
                {
                    "data": {
                        "text/html": "<div>\n<style scoped>\n    .dataframe tbody tr th:only-of-type {\n        vertical-align: middle;\n    }\n\n    .dataframe tbody tr th {\n        vertical-align: top;\n    }\n\n    .dataframe thead th {\n        text-align: right;\n    }\n</style>\n<table border=\"1\" class=\"dataframe\">\n  <thead>\n    <tr style=\"text-align: right;\">\n      <th>sector</th>\n      <th>treasury</th>\n      <th>hardware</th>\n      <th>theater</th>\n      <th>telecom</th>\n      <th>brewery</th>\n      <th>highways</th>\n      <th>cars</th>\n      <th>bank</th>\n      <th>software</th>\n      <th>electronics</th>\n    </tr>\n    <tr>\n      <th>sector</th>\n      <th></th>\n      <th></th>\n      <th></th>\n      <th></th>\n      <th></th>\n      <th></th>\n      <th></th>\n      <th></th>\n      <th></th>\n      <th></th>\n    </tr>\n  </thead>\n  <tbody>\n    <tr>\n      <th>treasury</th>\n      <td>0.1</td>\n      <td>0.0</td>\n      <td>0</td>\n      <td>0</td>\n      <td>0.0</td>\n      <td>0.0</td>\n      <td>0.0</td>\n      <td>0.0</td>\n      <td>0.0</td>\n      <td>0.0</td>\n    </tr>\n    <tr>\n      <th>hardware</th>\n      <td>0.0</td>\n      <td>19.0</td>\n      <td>-2</td>\n      <td>4</td>\n      <td>1.0</td>\n      <td>1.0</td>\n      <td>1.0</td>\n      <td>0.5</td>\n      <td>10.0</td>\n      <td>5.0</td>\n    </tr>\n    <tr>\n      <th>theater</th>\n      <td>0.0</td>\n      <td>-2.0</td>\n      <td>28</td>\n      <td>1</td>\n      <td>2.0</td>\n      <td>1.0</td>\n      <td>1.0</td>\n      <td>0.0</td>\n      <td>-2.0</td>\n      <td>-1.0</td>\n    </tr>\n    <tr>\n      <th>telecom</th>\n      <td>0.0</td>\n      <td>4.0</td>\n      <td>1</td>\n      <td>22</td>\n      <td>0.0</td>\n      <td>1.0</td>\n      <td>2.0</td>\n      <td>0.0</td>\n      <td>3.0</td>\n      <td>4.0</td>\n    </tr>\n    <tr>\n      <th>brewery</th>\n      <td>0.0</td>\n      <td>1.0</td>\n      <td>2</td>\n      <td>0</td>\n      <td>4.0</td>\n      <td>-1.5</td>\n      <td>-2.0</td>\n      <td>-1.0</td>\n      <td>1.0</td>\n      <td>1.0</td>\n    </tr>\n    <tr>\n      <th>highways</th>\n      <td>0.0</td>\n      <td>1.0</td>\n      <td>1</td>\n      <td>1</td>\n      <td>-1.5</td>\n      <td>3.5</td>\n      <td>2.0</td>\n      <td>0.5</td>\n      <td>1.0</td>\n      <td>1.5</td>\n    </tr>\n    <tr>\n      <th>cars</th>\n      <td>0.0</td>\n      <td>1.0</td>\n      <td>1</td>\n      <td>2</td>\n      <td>-2.0</td>\n      <td>2.0</td>\n      <td>5.0</td>\n      <td>0.5</td>\n      <td>1.0</td>\n      <td>2.5</td>\n    </tr>\n    <tr>\n      <th>bank</th>\n      <td>0.0</td>\n      <td>0.5</td>\n      <td>0</td>\n      <td>0</td>\n      <td>-1.0</td>\n      <td>0.5</td>\n      <td>0.5</td>\n      <td>1.0</td>\n      <td>0.5</td>\n      <td>0.5</td>\n    </tr>\n    <tr>\n      <th>software</th>\n      <td>0.0</td>\n      <td>10.0</td>\n      <td>-2</td>\n      <td>3</td>\n      <td>1.0</td>\n      <td>1.0</td>\n      <td>1.0</td>\n      <td>0.5</td>\n      <td>25.0</td>\n      <td>8.0</td>\n    </tr>\n    <tr>\n      <th>electronics</th>\n      <td>0.0</td>\n      <td>5.0</td>\n      <td>-1</td>\n      <td>4</td>\n      <td>1.0</td>\n      <td>1.5</td>\n      <td>2.5</td>\n      <td>0.5</td>\n      <td>8.0</td>\n      <td>16.0</td>\n    </tr>\n  </tbody>\n</table>\n</div>", 
                        "text/plain": "sector       treasury  hardware  theater  telecom  brewery  highways  cars  \\\nsector                                                                       \ntreasury          0.1       0.0        0        0      0.0       0.0   0.0   \nhardware          0.0      19.0       -2        4      1.0       1.0   1.0   \ntheater           0.0      -2.0       28        1      2.0       1.0   1.0   \ntelecom           0.0       4.0        1       22      0.0       1.0   2.0   \nbrewery           0.0       1.0        2        0      4.0      -1.5  -2.0   \nhighways          0.0       1.0        1        1     -1.5       3.5   2.0   \ncars              0.0       1.0        1        2     -2.0       2.0   5.0   \nbank              0.0       0.5        0        0     -1.0       0.5   0.5   \nsoftware          0.0      10.0       -2        3      1.0       1.0   1.0   \nelectronics       0.0       5.0       -1        4      1.0       1.5   2.5   \n\nsector       bank  software  electronics  \nsector                                    \ntreasury      0.0       0.0          0.0  \nhardware      0.5      10.0          5.0  \ntheater       0.0      -2.0         -1.0  \ntelecom       0.0       3.0          4.0  \nbrewery      -1.0       1.0          1.0  \nhighways      0.5       1.0          1.5  \ncars          0.5       1.0          2.5  \nbank          1.0       0.5          0.5  \nsoftware      0.5      25.0          8.0  \nelectronics   0.5       8.0         16.0  "
                    }, 
                    "metadata": {}, 
                    "execution_count": 37, 
                    "output_type": "execute_result"
                }
            ]
        }, 
        {
            "metadata": {}, 
            "source": "- There is a constraint that the total fraction of wealth invested in North American securities must be greater than some minimum value. \n- To implement this constraint, we add a new column to df_secs, that is equal to 1 if and only if the area column equals \"N.-Am.\", \n- else is equal to 0 (see later how we use this column to implemen the constraint).", 
            "cell_type": "markdown"
        }, 
        {
            "source": "def is_nam(s):\n    return 1 if s == 'N-Am.' else 0\n\ndf_secs['is_na'] = df_secs['area'].apply(is_nam)\ndf_secs", 
            "metadata": {}, 
            "execution_count": 38, 
            "cell_type": "code", 
            "outputs": [
                {
                    "data": {
                        "text/html": "<div>\n<style scoped>\n    .dataframe tbody tr th:only-of-type {\n        vertical-align: middle;\n    }\n\n    .dataframe tbody tr th {\n        vertical-align: top;\n    }\n\n    .dataframe thead th {\n        text-align: right;\n    }\n</style>\n<table border=\"1\" class=\"dataframe\">\n  <thead>\n    <tr style=\"text-align: right;\">\n      <th></th>\n      <th>return</th>\n      <th>area</th>\n      <th>is_na</th>\n    </tr>\n    <tr>\n      <th>sector</th>\n      <th></th>\n      <th></th>\n      <th></th>\n    </tr>\n  </thead>\n  <tbody>\n    <tr>\n      <th>treasury</th>\n      <td>5</td>\n      <td>N-Am.</td>\n      <td>1</td>\n    </tr>\n    <tr>\n      <th>hardware</th>\n      <td>17</td>\n      <td>N-Am.</td>\n      <td>1</td>\n    </tr>\n    <tr>\n      <th>theater</th>\n      <td>26</td>\n      <td>N-Am.</td>\n      <td>1</td>\n    </tr>\n    <tr>\n      <th>telecom</th>\n      <td>12</td>\n      <td>N-Am.</td>\n      <td>1</td>\n    </tr>\n    <tr>\n      <th>brewery</th>\n      <td>8</td>\n      <td>ww</td>\n      <td>0</td>\n    </tr>\n    <tr>\n      <th>highways</th>\n      <td>9</td>\n      <td>ww</td>\n      <td>0</td>\n    </tr>\n    <tr>\n      <th>cars</th>\n      <td>7</td>\n      <td>ww</td>\n      <td>0</td>\n    </tr>\n    <tr>\n      <th>bank</th>\n      <td>6</td>\n      <td>ww</td>\n      <td>0</td>\n    </tr>\n    <tr>\n      <th>software</th>\n      <td>31</td>\n      <td>ww</td>\n      <td>0</td>\n    </tr>\n    <tr>\n      <th>electronics</th>\n      <td>21</td>\n      <td>ww</td>\n      <td>0</td>\n    </tr>\n  </tbody>\n</table>\n</div>", 
                        "text/plain": "             return   area  is_na\nsector                           \ntreasury          5  N-Am.      1\nhardware         17  N-Am.      1\ntheater          26  N-Am.      1\ntelecom          12  N-Am.      1\nbrewery           8     ww      0\nhighways          9     ww      0\ncars              7     ww      0\nbank              6     ww      0\nsoftware         31     ww      0\nelectronics      21     ww      0"
                    }, 
                    "metadata": {}, 
                    "execution_count": 38, 
                    "output_type": "execute_result"
                }
            ]
        }, 
        {
            "source": "from docplex.mp.advmodel import AdvModel as Model\n\nmdl = Model(name='portfolio_miqp')", 
            "metadata": {}, 
            "execution_count": 39, 
            "cell_type": "code", 
            "outputs": []
        }, 
        {
            "metadata": {}, 
            "source": "We model variables as the _fraction_ of wealth to invest in each share. Each variable is a continuous variable between 0 and 1. Variables are stored in a column of the dataframe.", 
            "cell_type": "markdown"
        }, 
        {
            "source": "# create variables\ndf_secs['frac'] = mdl.continuous_var_list(securities, name='frac', ub=1)", 
            "metadata": {}, 
            "execution_count": 40, 
            "cell_type": "code", 
            "outputs": []
        }, 
        {
            "metadata": {}, 
            "source": "#### Express the business constraints\n\nThe business constraints are the following:\n\n- the sum of allocated fractions equal 100%\n- each security cannot exceed a certain percentage of the initial allocated wealth (here 30%)\n- there must be at least 40% of wealth invested in securities hosted in North America\n- compound return on investment must be less than or equal to a minimum target (say 9%)", 
            "cell_type": "markdown"
        }, 
        {
            "source": "# max fraction\nfrac_max = 0.3\nfor row in df_secs.itertuples():\n    mdl.add_constraint(row.frac <= 0.3)\n    \n# sum of fractions equal 100%\nmdl.add_constraint(mdl.sum(df_secs.frac) == 1);\n\n# north america constraint:\n#    - add a 1-0 column equal to 1 \n# compute the scalar product of frac variables and the 1-0 'is_na' column and set a minimum\nmdl.add_constraint(mdl.dot(df_secs.frac, df_secs.is_na) >= .4);\n\n# ensure minimal return on investment\ntarget_return = 9 # return data is expressed in percents\n# again we use scalar product to compute compound return rate\n# keep the expression to use as a kpi.\nactual_return = mdl.dot(df_secs.frac, df_secs['return'])\nmdl.add_kpi(actual_return, 'ROI')\n\n# keep the constraint for later use (more on this later)\nct_return = mdl.add_constraint(actual_return >= 9);", 
            "metadata": {}, 
            "execution_count": 41, 
            "cell_type": "code", 
            "outputs": []
        }, 
        {
            "metadata": {}, 
            "source": "#### Express the objective\n\nThe objective or goal is to minimize risk, here computed as the variance of the allocation, given a minimum return rate is guaranteed.\nVariance is computed as a _quadratic_ expression, which makes this model a Quadratic Programming (QP) model", 
            "cell_type": "markdown"
        }, 
        {
            "source": "# KPIs\nfracs = df_secs.frac\nvariance = mdl.sum(float(dfv[sec1][sec2]) * fracs[sec1] * fracs[sec2] for sec1 in securities for sec2 in securities)\nmdl.add_kpi(variance, 'Variance')\n\n# finally the objective\nmdl.minimize(variance)", 
            "metadata": {}, 
            "execution_count": 42, 
            "cell_type": "code", 
            "outputs": []
        }, 
        {
            "metadata": {
                "collapsed": true
            }, 
            "source": "##### Solve with the Decision Optimization solve service\n\nIf url and key are None, the Modeling layer will look for a local runtime, otherwise will use the credentials.\nLook at the documentation for a good understanding of the various solving/generation modes.\n\nIf you're using a Community Edition of CPLEX runtimes, depending on the size of the problem, the solve stage may fail and will need a paying subscription or product installation.\n\nWe display the objective and KPI values after the solve by calling the method report() on the model.", 
            "cell_type": "markdown"
        }, 
        {
            "source": "assert mdl.solve(url=url, key=key), \"Solve failed\"\nmdl.report()", 
            "metadata": {}, 
            "execution_count": 43, 
            "cell_type": "code", 
            "outputs": [
                {
                    "name": "stdout", 
                    "output_type": "stream", 
                    "text": "* model solved with objective = 0.406\n*  KPI: ROI      = 9.000\n*  KPI: Variance = 0.406\n"
                }
            ]
        }, 
        {
            "metadata": {}, 
            "source": "The model has solved with a target return of 9% and a variance of 0.406.", 
            "cell_type": "markdown"
        }, 
        {
            "source": "all_fracs = {}\nfor row in df_secs.itertuples():\n    pct = 100 * row.frac.solution_value\n    all_fracs[row[0]] = pct\n    print('-- fraction allocated in: {0:<12}: {1:.2f}%'.format(row[0], pct))", 
            "metadata": {}, 
            "execution_count": 44, 
            "cell_type": "code", 
            "outputs": [
                {
                    "name": "stdout", 
                    "output_type": "stream", 
                    "text": "-- fraction allocated in: treasury    : 30.00%\n-- fraction allocated in: hardware    : 2.08%\n-- fraction allocated in: theater     : 5.46%\n-- fraction allocated in: telecom     : 2.46%\n-- fraction allocated in: brewery     : 15.35%\n-- fraction allocated in: highways    : 8.60%\n-- fraction allocated in: cars        : 1.61%\n-- fraction allocated in: bank        : 29.00%\n-- fraction allocated in: software    : 4.34%\n-- fraction allocated in: electronics : 1.10%\n"
                }
            ]
        }, 
        {
            "metadata": {}, 
            "source": "Let's display these fractions in a pie chart using the Python package [*matplotlib*](http://matplotlib.org/).", 
            "cell_type": "markdown"
        }, 
        {
            "source": "%matplotlib inline\nimport matplotlib.pyplot as plt\n\ndef display_pie(pie_values, pie_labels, colors=None,title=''):\n    plt.axis(\"equal\")\n    plt.pie(pie_values, labels=pie_labels, colors=colors, autopct=\"%1.1f%%\")\n    plt.title(title)\n    plt.show()\n                                                           \ndisplay_pie( all_fracs.values(), all_fracs.keys(),title='Allocated Fractions')", 
            "metadata": {}, 
            "execution_count": 45, 
            "cell_type": "code", 
            "outputs": [
                {
                    "data": {
                        "text/plain": "<matplotlib.figure.Figure at 0x7fda28aa2990>", 
                        "image/png": "[encoded data removed]"
                    }, 
                    "metadata": {}, 
                    "output_type": "display_data"
                }
            ]
        }, 
        {
            "metadata": {}, 
            "source": "## What-if analysis: trying different values for target return\n\nThe above model was solved with a 'hard coded' value of 9% for the target. \nNow, one can wonder how variance would vary if we changed this target return value.\n\nIn this part, we will leverage DOcplex model edition capabilities to explore different scenarios with different target return values.\nWe will run the model for target return values betwen 4% and 20%. For each possible target return value,\nwe modify the right-hand side (or _rhs_) of the `ct_target` constraint we kept as a variable, and solve again,\nkeeping the values in a list.\n", 
            "cell_type": "markdown"
        }, 
        {
            "source": "target_returns = range(5,21)  # from 5 to 20, included\nvariances = []\nfor target in target_returns:\n    # modify the constraint's right hand side.\n    ct_return.rhs = target\n    cur_s = mdl.solve(url=url, key=key)\n    assert cur_s  # solve is OK\n    cur_variance = variance.solution_value\n    print('- for a target return of: {0}%, variance={1}'.format(target, cur_variance))\n    variances.append(cur_variance)", 
            "metadata": {}, 
            "execution_count": 46, 
            "cell_type": "code", 
            "outputs": [
                {
                    "name": "stdout", 
                    "output_type": "stream", 
                    "text": "- for a target return of: 5%, variance=0.281052522094\n- for a target return of: 6%, variance=0.281052522144\n- for a target return of: 7%, variance=0.28105252225\n- for a target return of: 8%, variance=0.308185908696\n- for a target return of: 9%, variance=0.405577349404\n- for a target return of: 10%, variance=0.550343525005\n- for a target return of: 11%, variance=0.741794573128\n- for a target return of: 12%, variance=0.979845964693\n- for a target return of: 13%, variance=1.25989354438\n- for a target return of: 14%, variance=1.58137555404\n- for a target return of: 15%, variance=1.94422359461\n- for a target return of: 16%, variance=2.34695923313\n- for a target return of: 17%, variance=2.78898505456\n- for a target return of: 18%, variance=3.27072840942\n- for a target return of: 19%, variance=3.79250399539\n- for a target return of: 20%, variance=4.35431181013\n"
                }
            ]
        }, 
        {
            "metadata": {}, 
            "source": "Again we use `matplotlib` to print variances vs. target returns.", 
            "cell_type": "markdown"
        }, 
        {
            "source": "plt.plot(target_returns, variances, 'bo-')\nplt.title('Variance vs. Target Return')\nplt.xlabel('target return (in %)')\nplt.ylabel('variance')\nplt.show()", 
            "metadata": {}, 
            "execution_count": 47, 
            "cell_type": "code", 
            "outputs": [
                {
                    "data": {
                        "text/plain": "<matplotlib.figure.Figure at 0x7fda1eac8a10>", 
                        "image/png": "[encoded data removed]"
                    }, 
                    "metadata": {}, 
                    "output_type": "display_data"
                }
            ]
        }, 
        {
            "metadata": {}, 
            "source": "Not surprisingly, variance is increasing with target return.", 
            "cell_type": "markdown"
        }
    ], 
    "nbformat_minor": 1
}